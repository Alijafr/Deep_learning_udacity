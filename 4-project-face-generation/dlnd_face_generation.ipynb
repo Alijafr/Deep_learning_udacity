{
 "cells": [
  {
   "cell_type": "markdown",
   "metadata": {
    "colab_type": "text",
    "id": "WvL00qwNs3hM"
   },
   "source": [
    "# **Face Generation**\n",
    "\n",
    "In this project, you'll define and train a DCGAN on a dataset of faces. Your goal is to get a generator network to generate new images of faces that look as realistic as possible!\n",
    "\n",
    "The project will be broken down into a series of tasks from loading in data to defining and training adversarial networks. At the end of the notebook, you'll be able to visualize the results of your trained Generator to see how it performs; your generated samples should look like fairly realistic faces with small amounts of noise.\n",
    "\n",
    "**Get the Data**\n",
    "\n",
    "You'll be using the CelebFaces Attributes Dataset (CelebA) to train your adversarial networks.\n",
    "\n",
    "This dataset is more complex than the number datasets (like MNIST or SVHN) you've been working with, and so, you should prepare to define deeper networks and train them for a longer time to get good results. It is suggested that you utilize a GPU for training.\n",
    "\n",
    "**Pre-processed Data**\n",
    "\n",
    "Since the project's main focus is on building the GANs, we've done some of the pre-processing for you. Each of the CelebA images has been cropped to remove parts of the image that don't include a face, then resized down to 64x64x3 NumPy images. \n",
    "\n",
    "This is a zip file that you'll need to extract in the home directory of this notebook for further loading and processing. After extracting the data, you should be left with a directory of data processed_celeba_small/"
   ]
  },
  {
   "cell_type": "code",
   "execution_count": 1,
   "metadata": {
    "colab": {
     "base_uri": "https://localhost:8080/",
     "height": 34
    },
    "colab_type": "code",
    "id": "L9KQ1YSHD-2l",
    "outputId": "565ea197-c9d8-4497-e18a-89b5bcb96411"
   },
   "outputs": [],
   "source": [
    "# # Extractting the dataset\n",
    "# !unzip -n processed_celeba_small.zip"
   ]
  },
  {
   "cell_type": "code",
   "execution_count": 2,
   "metadata": {
    "colab": {},
    "colab_type": "code",
    "id": "AIiteI3TEXWk"
   },
   "outputs": [],
   "source": [
    "data_dir = 'processed_celeba_small/'\n",
    "\n",
    "import pickle as pkl\n",
    "import matplotlib.pyplot as plt\n",
    "import numpy as np\n",
    "import problem_unittests as tests\n",
    "#import helper\n",
    "\n",
    "%matplotlib inline"
   ]
  },
  {
   "cell_type": "markdown",
   "metadata": {
    "colab_type": "text",
    "id": "6iPWXSzFuL_C"
   },
   "source": [
    "# **Visualize the CelebA Data**\n",
    "\n",
    "The CelebA dataset contains over 200,000 celebrity images with annotations. Since you're going to be generating faces, you won't need the annotations, you'll only need the images. Note that these are color images with 3 color channels (RGB)#RGB_Images) each.\n",
    "\n",
    "**Pre-process and Load the Data**\n",
    "\n",
    "Since the project's main focus is on building the GANs, we've done some of the pre-processing for you. Each of the CelebA images has been cropped to remove parts of the image that don't include a face, then resized down to 64x64x3 NumPy images. This pre-processed dataset is a smaller subset of the very large CelebA data.\n",
    "\n",
    "There are a few other steps that you'll need to transform this data and create a DataLoader.\n",
    "\n",
    "**Exercise: Complete the following get_dataloader function, such that it satisfies these requirements:**\n",
    "\n",
    "Your images should be square, Tensor images of size image_size x image_size in the x and y dimension.\n",
    "\n",
    "Your function should return a DataLoader that shuffles and batches these Tensor images.\n",
    "\n",
    "**ImageFolder**\n",
    "\n",
    "To create a dataset given a directory of images, it's recommended that you use PyTorch's ImageFolder wrapper, with a root directory processed_celeba_small/ and data transformation passed in."
   ]
  },
  {
   "cell_type": "code",
   "execution_count": 3,
   "metadata": {
    "colab": {},
    "colab_type": "code",
    "id": "ZU4PGfqqE6pw"
   },
   "outputs": [],
   "source": [
    "# necessary imports\n",
    "import torch\n",
    "from torchvision import datasets\n",
    "from torchvision import transforms\n",
    "from torch.utils.data import DataLoader"
   ]
  },
  {
   "cell_type": "code",
   "execution_count": 5,
   "metadata": {
    "colab": {},
    "colab_type": "code",
    "id": "Wsmda4iTE-y-"
   },
   "outputs": [],
   "source": [
    "def get_dataloader(batch_size, image_size, data_dir='processed_celeba_small/'):\n",
    "    \"\"\"\n",
    "    Batch the neural network data using DataLoader\n",
    "    :param batch_size: The size of each batch; the number of images in a batch\n",
    "    :param img_size: The square size of the image data (x, y)\n",
    "    :param data_dir: Directory where image data is located\n",
    "    :return: DataLoader with batched data\n",
    "    \"\"\"\n",
    "    \n",
    "    # resize and normalize the images\n",
    "    transform = transforms.Compose([transforms.Resize(image_size),\n",
    "                                    transforms.ToTensor()])\n",
    "\n",
    "    # define datasets using ImageFolder\n",
    "    dataset = datasets.ImageFolder(data_dir, transform)\n",
    "\n",
    "    # create and return DataLoader\n",
    "    data_loader = DataLoader(dataset, batch_size=batch_size, shuffle=True)\n",
    "\n",
    "    return data_loader"
   ]
  },
  {
   "cell_type": "markdown",
   "metadata": {
    "colab_type": "text",
    "id": "7qLBgm_0umx3"
   },
   "source": [
    "# **Create a DataLoader**\n",
    "\n",
    "**Exercise: Create a DataLoader celeba_train_loader with appropriate hyperparameters.**\n",
    "\n",
    "Call the above function and create a dataloader to view images.\n",
    "\n",
    "You can decide on any reasonable batch_size parameter\n",
    "\n",
    "Your image_size** must be 32**. Resizing the data to a smaller size will make for faster training, while still creating convincing images of faces!"
   ]
  },
  {
   "cell_type": "code",
   "execution_count": 29,
   "metadata": {
    "colab": {},
    "colab_type": "code",
    "id": "ESrgOrQoGSFf"
   },
   "outputs": [],
   "source": [
    "# Define function hyperparameters\n",
    "batch_size = 64\n",
    "img_size = 32\n",
    "\n",
    "\"\"\"\n",
    "DON'T MODIFY ANYTHING IN THIS CELL THAT IS BELOW THIS LINE\n",
    "\"\"\"\n",
    "# Call your function and get a dataloader\n",
    "celeba_train_loader = get_dataloader(batch_size, img_size)"
   ]
  },
  {
   "cell_type": "markdown",
   "metadata": {
    "colab_type": "text",
    "id": "RV23fj0nvNKk"
   },
   "source": [
    "Next, you can view some images! You should seen square images of somewhat-centered faces.\n",
    "\n",
    "\n",
    "Note: You'll need to convert the Tensor images into a NumPy type and transpose the dimensions to correctly display an image, suggested imshow code is below, but it may not be perfect."
   ]
  },
  {
   "cell_type": "code",
   "execution_count": 30,
   "metadata": {
    "colab": {
     "base_uri": "https://localhost:8080/",
     "height": 243
    },
    "colab_type": "code",
    "id": "whOyU-UIGu9f",
    "outputId": "27ad7c39-c1c7-4c32-e0f5-18c8c643babd"
   },
   "outputs": [
    {
     "data": {
      "image/png": "[encoded data removed]",
      "text/plain": [
       "<matplotlib.figure.Figure at 0x7f57745b77b8>"
      ]
     },
     "metadata": {},
     "output_type": "display_data"
    }
   ],
   "source": [
    "# helper display function\n",
    "def imshow(img):\n",
    "    npimg = img.numpy()\n",
    "    plt.imshow(np.transpose(npimg, (1, 2, 0)))\n",
    "\n",
    "# obtain one batch of training images\n",
    "dataiter = iter(celeba_train_loader)\n",
    "images, _ = dataiter.next() # _ for no labels\n",
    "\n",
    "# plot the images in the batch, along with the corresponding labels\n",
    "fig = plt.figure(figsize=(20, 4))\n",
    "plot_size=20\n",
    "for idx in np.arange(plot_size):\n",
    "    ax = fig.add_subplot(2, plot_size/2, idx+1, xticks=[], yticks=[])\n",
    "    imshow(images[idx])"
   ]
  },
  {
   "cell_type": "markdown",
   "metadata": {
    "colab_type": "text",
    "id": "dTiznsNUvUlc"
   },
   "source": [
    "**Exercise: Pre-process your image data and scale it to a pixel range of -1 to 1**\n",
    "\n",
    "You need to do a bit of pre-processing; you know that the output of a tanh activated generator will contain pixel values in a range from -1 to 1, and so, we need to rescale our training images to a range of -1 to 1. (Right now, they are in a range from 0-1.)"
   ]
  },
  {
   "cell_type": "code",
   "execution_count": 31,
   "metadata": {
    "colab": {},
    "colab_type": "code",
    "id": "Q6FC0fx8G2Cq"
   },
   "outputs": [],
   "source": [
    "# TODO: Complete the scale function\n",
    "def scale(x, feature_range=(-1, 1)):\n",
    "    ''' Scale takes in an image x and returns that image, scaled\n",
    "       with a feature_range of pixel values from -1 to 1. \n",
    "       This function assumes that the input x is already scaled from 0-1.'''\n",
    "    # assume x is scaled to (0, 1)\n",
    "    # scale to feature_range and return scaled x\n",
    "    min, max = feature_range\n",
    "    x = x * (max - min) + min\n",
    "    \n",
    "    return x"
   ]
  },
  {
   "cell_type": "code",
   "execution_count": 32,
   "metadata": {
    "colab": {
     "base_uri": "https://localhost:8080/",
     "height": 52
    },
    "colab_type": "code",
    "id": "wyVDrmUfG-P1",
    "outputId": "9de1b20a-d929-4875-c106-aa10952e9da1"
   },
   "outputs": [
    {
     "name": "stdout",
     "output_type": "stream",
     "text": [
      "Min:  tensor(-0.9922)\n",
      "Max:  tensor(0.9529)\n"
     ]
    }
   ],
   "source": [
    "# check scaled range\n",
    "# should be close to -1 to 1\n",
    "img = images[0]\n",
    "scaled_img = scale(img)\n",
    "\n",
    "print('Min: ', scaled_img.min())\n",
    "print('Max: ', scaled_img.max())"
   ]
  },
  {
   "cell_type": "markdown",
   "metadata": {
    "colab_type": "text",
    "id": "-D_0MWC7vjeb"
   },
   "source": [
    "# **Define the Model**\n",
    "A GAN is comprised of two adversarial networks, a discriminator and a generator.\n",
    "\n",
    "# **Discriminator**\n",
    "Your first task will be to define the discriminator. This is a convolutional classifier like you've built before, only without any maxpooling layers. To deal with this complex data, it's suggested you use a deep network with normalization. You are also allowed to create any helper functions that may be useful.\n",
    "\n",
    "**Exercise: Complete the Discriminator class **\n",
    "\n",
    "The inputs to the discriminator are 32x32x3 tensor images\n",
    "\n",
    "The output should be a single value that will indicate whether a given image is real or fake"
   ]
  },
  {
   "cell_type": "code",
   "execution_count": 33,
   "metadata": {
    "colab": {},
    "colab_type": "code",
    "id": "ynQGcTHOHCUD"
   },
   "outputs": [],
   "source": [
    "import torch.nn as nn\n",
    "import torch.nn.functional as F"
   ]
  },
  {
   "cell_type": "code",
   "execution_count": 34,
   "metadata": {
    "colab": {},
    "colab_type": "code",
    "id": "6oBDFl1AHGkR"
   },
   "outputs": [],
   "source": [
    "# helper conv function -> a convolutional layer + an optional batch norm layer\n",
    "def conv(in_channels, out_channels, kernel_size=4, stride=2, padding=1, batch_norm=True):\n",
    "    \"\"\"Creates a convolutional layer, with optional batch normalization.\n",
    "    \"\"\"\n",
    "    layers = []\n",
    "    conv_layer = nn.Conv2d(in_channels=in_channels, out_channels=out_channels, \n",
    "                           kernel_size=kernel_size, stride=stride, padding=padding, bias=False)\n",
    "    #appending convolutional layer\n",
    "    layers.append(conv_layer)\n",
    "    #appending batch norm layer\n",
    "    if batch_norm:\n",
    "        layers.append(nn.BatchNorm2d(out_channels))\n",
    "        \n",
    "    return nn.Sequential(*layers)"
   ]
  },
  {
   "cell_type": "code",
   "execution_count": 35,
   "metadata": {
    "colab": {
     "base_uri": "https://localhost:8080/",
     "height": 34
    },
    "colab_type": "code",
    "id": "61tlu9p_HYo3",
    "outputId": "b08539e9-acd4-4ce4-ba08-fbf17ef37f5f"
   },
   "outputs": [
    {
     "name": "stdout",
     "output_type": "stream",
     "text": [
      "Tests Passed\n"
     ]
    }
   ],
   "source": [
    "class Discriminator(nn.Module):\n",
    "\n",
    "    def __init__(self, conv_dim):\n",
    "        \"\"\"\n",
    "        Initialize the Discriminator Module\n",
    "        :param conv_dim: The depth of the first convolutional layer\n",
    "        \"\"\"\n",
    "        super(Discriminator, self).__init__()\n",
    "\n",
    "        # complete init function\n",
    "        self.conv_dim = conv_dim\n",
    "        \n",
    "        #leaky relu negative slope\n",
    "        self.leaky_relu_slope = 0.2\n",
    "        \n",
    "        # Convolutional layers, increasing in depth\n",
    "        # first layer has *no* batchnorm\n",
    "        \n",
    "       \n",
    "        self.conv1 = conv(3, conv_dim, batch_norm=False) # 16x16\n",
    "        self.conv2 = conv(conv_dim, conv_dim*2)          #8x8 \n",
    "        self.conv3 = conv(conv_dim*2, conv_dim*4)         #4x4\n",
    "        self.conv4 = conv(conv_dim*4, conv_dim*8)         #2x2\n",
    "        \n",
    "        # Classification layer -- final, fully-connected layer\n",
    "        self.fc = nn.Linear(conv_dim*8*2*2, 1)\n",
    "    \n",
    "    \n",
    "    def forward(self, x):\n",
    "        \"\"\"\n",
    "        Forward propagation of the neural network\n",
    "        :param x: The input to the neural network     \n",
    "        :return: Discriminator logits; the output of the neural network\n",
    "        \"\"\"\n",
    "        # define feedforward behavior\n",
    "        \n",
    "        # relu applied to all conv layers but last\n",
    "        out = F.leaky_relu(self.conv1(x), self.leaky_relu_slope)\n",
    "        out = F.leaky_relu(self.conv2(out), self.leaky_relu_slope)\n",
    "        out = F.leaky_relu(self.conv3(out), self.leaky_relu_slope)\n",
    "        out = F.leaky_relu(self.conv4(out), self.leaky_relu_slope)\n",
    "        \n",
    "        out = out.view(-1, self.conv_dim*8*2*2) #flattening\n",
    "        \n",
    "        # last, classification layer\n",
    "        out = self.fc(out) \n",
    "        \n",
    "        return out\n",
    "\"\"\"\n",
    "DON'T MODIFY ANYTHING IN THIS CELL THAT IS BELOW THIS LINE\n",
    "\"\"\"\n",
    "tests.test_discriminator(Discriminator)"
   ]
  },
  {
   "cell_type": "markdown",
   "metadata": {
    "colab_type": "text",
    "id": "NPJAZb9kwDsD"
   },
   "source": [
    "# **Generator**\n",
    "The generator should upsample an input and generate a new image of the same size as our training data 32x32x3. This should be mostly transpose convolutional layers with normalization applied to the outputs.\n",
    "\n",
    "**Exercise: Complete the Generator class **\n",
    "\n",
    "The inputs to the generator are vectors of some length z_size\n",
    "\n",
    "The output should be a image of shape 32x32x3"
   ]
  },
  {
   "cell_type": "code",
   "execution_count": 36,
   "metadata": {
    "colab": {},
    "colab_type": "code",
    "id": "zLG7WpBbKDFa"
   },
   "outputs": [],
   "source": [
    "#deconv helper function, which creates a transpose convolutional layer + an optional batchnorm layer\n",
    "def deconv(in_channels, out_channels, kernel_size=4, stride=2, padding=1, batch_norm=True):\n",
    "    \"\"\"Creates a transpose convolutional layer, with optional batch normalization.\n",
    "    \"\"\"\n",
    "    layers = []\n",
    "    \n",
    "    # append transpose conv layer -- we are not using bias terms in conv layers\n",
    "    layers.append(nn.ConvTranspose2d(in_channels, out_channels, kernel_size, stride, padding, bias=False))\n",
    "    \n",
    "    # optional batch norm layer\n",
    "    if batch_norm:\n",
    "        layers.append(nn.BatchNorm2d(out_channels))\n",
    "        \n",
    "    return nn.Sequential(*layers)"
   ]
  },
  {
   "cell_type": "code",
   "execution_count": 37,
   "metadata": {
    "colab": {
     "base_uri": "https://localhost:8080/",
     "height": 34
    },
    "colab_type": "code",
    "id": "L8n6JljuMSbm",
    "outputId": "7d3f4ea6-0ce1-41d7-956d-c99ee768d1ad"
   },
   "outputs": [
    {
     "name": "stdout",
     "output_type": "stream",
     "text": [
      "Tests Passed\n"
     ]
    }
   ],
   "source": [
    "class Generator(nn.Module):\n",
    "    \n",
    "    def __init__(self, z_size, conv_dim):\n",
    "        \"\"\"\n",
    "        Initialize the Generator Module\n",
    "        :param z_size: The length of the input latent vector, z\n",
    "        :param conv_dim: The depth of the inputs to the *last* transpose convolutional layer\n",
    "        \"\"\"\n",
    "        super(Generator, self).__init__()\n",
    "\n",
    "        # complete init function\n",
    "        \n",
    "        self.conv_dim = conv_dim\n",
    "        \n",
    "        # first, fully-connected layer\n",
    "        self.fc = nn.Linear(z_size, conv_dim*8*2*2)\n",
    "\n",
    "        \n",
    "        # transpose conv layers\n",
    "        self.deconv1 = deconv(conv_dim*8, conv_dim*4)\n",
    "        self.deconv2 = deconv(conv_dim*4, conv_dim*2)\n",
    "        self.deconv3 = deconv(conv_dim*2, conv_dim)\n",
    "        self.deconv4 = deconv(conv_dim, 3, batch_norm=False)\n",
    "        \n",
    "        \n",
    "        \n",
    "\n",
    "    def forward(self, x):\n",
    "        \"\"\"\n",
    "        Forward propagation of the neural network\n",
    "        :param x: The input to the neural network     \n",
    "        :return: A 32x32x3 Tensor image as output\n",
    "        \"\"\"\n",
    "        # define feedforward behavior\n",
    "        \n",
    "        ## fully-connected\n",
    "        x = self.fc(x)\n",
    "        \n",
    "        #retrieve the batch size\n",
    "        batch_size = x.shape[0]\n",
    "        \n",
    "        #reshape\n",
    "        x = x.view(-1, self.conv_dim*8, 2, 2)\n",
    "        \n",
    "        \n",
    "        # hidden transpose conv layers + relu\n",
    "        x = F.relu(self.deconv1(x))\n",
    "        x = F.relu(self.deconv2(x))\n",
    "        x = F.relu(self.deconv3(x))\n",
    "        \n",
    "        # last layer + tanh activation\n",
    "        x = self.deconv4(x)\n",
    "        x = torch.tanh(x)\n",
    "            \n",
    "        return x\n",
    "      \n",
    "      \n",
    "\"\"\"\n",
    "DON'T MODIFY ANYTHING IN THIS CELL THAT IS BELOW THIS LINE\n",
    "\"\"\"\n",
    "tests.test_generator(Generator)"
   ]
  },
  {
   "cell_type": "markdown",
   "metadata": {
    "colab_type": "text",
    "id": "khumZK_CwQOo"
   },
   "source": [
    "## Initialize the weights of your networks\n",
    "\n",
    "To help your models converge, you should initialize the weights of the convolutional and linear layers in your model. From reading the [original DCGAN paper](https://arxiv.org/pdf/1511.06434.pdf), they say:\n",
    "> All weights were initialized from a zero-centered Normal distribution with standard deviation 0.02.\n",
    "\n",
    "So, your next task will be to define a weight initialization function that does just this!\n",
    "\n",
    "You can refer back to the lesson on weight initialization or even consult existing model code, such as that from [the `networks.py` file in CycleGAN Github repository](https://github.com/junyanz/pytorch-CycleGAN-and-pix2pix/blob/master/models/networks.py) to help you complete this function.\n",
    "\n",
    "#### Exercise: Complete the weight initialization function\n",
    "\n",
    "* This should initialize only **convolutional** and **linear** layers\n",
    "* Initialize the weights to a normal distribution, centered around 0, with a standard deviation of 0.02.\n",
    "* The bias terms, if they exist, may be left alone or set to 0."
   ]
  },
  {
   "cell_type": "code",
   "execution_count": 38,
   "metadata": {
    "colab": {},
    "colab_type": "code",
    "id": "Zv7PT9SgNkrl"
   },
   "outputs": [],
   "source": [
    "def weights_init_normal(m):\n",
    "    \"\"\"\n",
    "    Applies initial weights to certain layers in a model .\n",
    "    The weights are taken from a normal distribution \n",
    "    with mean = 0, std dev = 0.02.\n",
    "    :param m: A module or layer in a network    \n",
    "    \"\"\"\n",
    "    # classname will be something like:\n",
    "    # `Conv`, `BatchNorm2d`, `Linear`, etc.\n",
    "    classname = m.__class__.__name__\n",
    "    \n",
    "    # TODO: Apply initial weights to convolutional and linear layers\n",
    "    \n",
    "    # for every Linear layer and convolutional in a model..\n",
    "    if classname.find('Linear') != -1 or classname.find('Convo2d') != -1:\n",
    "        #Fills the input Tensor with values drawn from the normal distribution\n",
    "        #mean =0 and standard deviation=0.02\n",
    "        torch.nn.init.normal_(m.weight.data, 0.0, 0.02)\n",
    "        #The bias terms or set to 0\n",
    "        m.bias.data.fill_(0)"
   ]
  },
  {
   "cell_type": "markdown",
   "metadata": {
    "colab_type": "text",
    "id": "9iEk7kwLwmtb"
   },
   "source": [
    "# **Build complete network**\n",
    "Define your models' hyperparameters and instantiate the discriminator and generator from the classes defined above. Make sure you've passed in the correct input arguments."
   ]
  },
  {
   "cell_type": "code",
   "execution_count": 19,
   "metadata": {
    "colab": {},
    "colab_type": "code",
    "id": "ty0TKXexOGhi"
   },
   "outputs": [],
   "source": [
    "\"\"\"\n",
    "DON'T MODIFY ANYTHING IN THIS CELL THAT IS BELOW THIS LINE\n",
    "\"\"\"\n",
    "def build_network(d_conv_dim, g_conv_dim, z_size):\n",
    "    # define discriminator and generator\n",
    "    D = Discriminator(d_conv_dim)\n",
    "    G = Generator(z_size=z_size, conv_dim=g_conv_dim)\n",
    "\n",
    "    # initialize model weights\n",
    "    D.apply(weights_init_normal)\n",
    "    G.apply(weights_init_normal)\n",
    "\n",
    "    print(D)\n",
    "    print()\n",
    "    print(G)\n",
    "    \n",
    "    return D, G"
   ]
  },
  {
   "cell_type": "markdown",
   "metadata": {
    "colab_type": "text",
    "id": "40PURaGfwu0p"
   },
   "source": [
    "**Exercise: Define model hyperparameters**"
   ]
  },
  {
   "cell_type": "code",
   "execution_count": 39,
   "metadata": {
    "colab": {
     "base_uri": "https://localhost:8080/",
     "height": 532
    },
    "colab_type": "code",
    "id": "QVFws3qqOLwP",
    "outputId": "f8ca5541-3877-4734-e7f8-1623db91dbe4"
   },
   "outputs": [
    {
     "name": "stdout",
     "output_type": "stream",
     "text": [
      "Discriminator(\n",
      "  (conv1): Sequential(\n",
      "    (0): Conv2d(3, 32, kernel_size=(4, 4), stride=(2, 2), padding=(1, 1), bias=False)\n",
      "  )\n",
      "  (conv2): Sequential(\n",
      "    (0): Conv2d(32, 64, kernel_size=(4, 4), stride=(2, 2), padding=(1, 1), bias=False)\n",
      "    (1): BatchNorm2d(64, eps=1e-05, momentum=0.1, affine=True, track_running_stats=True)\n",
      "  )\n",
      "  (conv3): Sequential(\n",
      "    (0): Conv2d(64, 128, kernel_size=(4, 4), stride=(2, 2), padding=(1, 1), bias=False)\n",
      "    (1): BatchNorm2d(128, eps=1e-05, momentum=0.1, affine=True, track_running_stats=True)\n",
      "  )\n",
      "  (conv4): Sequential(\n",
      "    (0): Conv2d(128, 256, kernel_size=(4, 4), stride=(2, 2), padding=(1, 1), bias=False)\n",
      "    (1): BatchNorm2d(256, eps=1e-05, momentum=0.1, affine=True, track_running_stats=True)\n",
      "  )\n",
      "  (fc): Linear(in_features=1024, out_features=1, bias=True)\n",
      ")\n",
      "\n",
      "Generator(\n",
      "  (fc): Linear(in_features=150, out_features=1024, bias=True)\n",
      "  (deconv1): Sequential(\n",
      "    (0): ConvTranspose2d(256, 128, kernel_size=(4, 4), stride=(2, 2), padding=(1, 1), bias=False)\n",
      "    (1): BatchNorm2d(128, eps=1e-05, momentum=0.1, affine=True, track_running_stats=True)\n",
      "  )\n",
      "  (deconv2): Sequential(\n",
      "    (0): ConvTranspose2d(128, 64, kernel_size=(4, 4), stride=(2, 2), padding=(1, 1), bias=False)\n",
      "    (1): BatchNorm2d(64, eps=1e-05, momentum=0.1, affine=True, track_running_stats=True)\n",
      "  )\n",
      "  (deconv3): Sequential(\n",
      "    (0): ConvTranspose2d(64, 32, kernel_size=(4, 4), stride=(2, 2), padding=(1, 1), bias=False)\n",
      "    (1): BatchNorm2d(32, eps=1e-05, momentum=0.1, affine=True, track_running_stats=True)\n",
      "  )\n",
      "  (deconv4): Sequential(\n",
      "    (0): ConvTranspose2d(32, 3, kernel_size=(4, 4), stride=(2, 2), padding=(1, 1), bias=False)\n",
      "  )\n",
      ")\n"
     ]
    }
   ],
   "source": [
    "# Define model hyperparams\n",
    "d_conv_dim = 32\n",
    "g_conv_dim = 32\n",
    "z_size = 150\n",
    "\n",
    "\"\"\"\n",
    "DON'T MODIFY ANYTHING IN THIS CELL THAT IS BELOW THIS LINE\n",
    "\"\"\"\n",
    "D, G = build_network(d_conv_dim, g_conv_dim, z_size)"
   ]
  },
  {
   "cell_type": "markdown",
   "metadata": {
    "colab_type": "text",
    "id": "EQ9viPnow4de"
   },
   "source": [
    "# **Training on GPU**\n",
    "Check if you can train on GPU. Here, we'll set this as a boolean variable train_on_gpu. Later, you'll be responsible for making sure that\n",
    "\n",
    "Models,\n",
    "\n",
    "Model inputs, and\n",
    "\n",
    "Loss function arguments\n",
    "\n",
    "Are moved to GPU, where appropriate."
   ]
  },
  {
   "cell_type": "code",
   "execution_count": 40,
   "metadata": {
    "colab": {
     "base_uri": "https://localhost:8080/",
     "height": 34
    },
    "colab_type": "code",
    "id": "uiDSHtlLOTza",
    "outputId": "aa9b47d1-5b16-4502-96a5-611526f64948"
   },
   "outputs": [
    {
     "name": "stdout",
     "output_type": "stream",
     "text": [
      "Training on GPU!\n"
     ]
    }
   ],
   "source": [
    "\"\"\"\n",
    "DON'T MODIFY ANYTHING IN THIS CELL\n",
    "\"\"\"\n",
    "import torch\n",
    "\n",
    "# Check for a GPU\n",
    "device = 'cuda' if torch.cuda.is_available() else 'cpu'\n",
    "train_on_gpu = torch.cuda.is_available()\n",
    "if not train_on_gpu:\n",
    "    print('No GPU found. Please use a GPU to train your neural network.')\n",
    "else:\n",
    "    print('Training on GPU!')"
   ]
  },
  {
   "cell_type": "markdown",
   "metadata": {
    "colab_type": "text",
    "id": "u2VctyHDxE6v"
   },
   "source": [
    "# **Discriminator and Generator Losses**\n",
    "Now we need to calculate the losses for both types of adversarial networks.\n",
    "\n",
    "# **Discriminator Losses**\n",
    "\n",
    "For the discriminator, the total loss is the sum of the losses for real and fake images, d_loss = d_real_loss + d_fake_loss.\n",
    "\n",
    "Remember that we want the discriminator to output 1 for real images and 0 for fake images, so we need to set up the losses to reflect that.\n",
    "\n",
    "# **Generator Loss**\n",
    "The generator loss will look similar only with flipped labels. The generator's goal is to get the discriminator to think its generated images are real.\n",
    "\n",
    "**Exercise: Complete real and fake loss functions**\n",
    "\n",
    "**You may choose to use either cross entropy or a least squares error loss to complete the following real_loss and fake_loss functions. **"
   ]
  },
  {
   "cell_type": "code",
   "execution_count": 41,
   "metadata": {
    "colab": {},
    "colab_type": "code",
    "id": "OcNAnxoVPicO"
   },
   "outputs": [],
   "source": [
    "def real_loss(D_out, smooth=False):\n",
    "    '''Calculates how close discriminator outputs are to being real.\n",
    "       param, D_out: discriminator logits\n",
    "       return: real loss'''\n",
    "   \n",
    "    #retrieve the batch size\n",
    "    batch_size = D_out.size(0)\n",
    "    \n",
    "    # smooth, real labels = 0.9\n",
    "   \n",
    "    if smooth:\n",
    "        labels = torch.ones(batch_size)*0.9\n",
    "    else:\n",
    "        labels = torch.ones(batch_size)    # real labels = 1\n",
    "    \n",
    "    # move labels to GPU if available \n",
    "    if train_on_gpu:\n",
    "        labels = labels.cuda()\n",
    "        \n",
    "    # binary cross entropy with logits loss\n",
    "    criterion = nn.BCEWithLogitsLoss()\n",
    "    # calculate loss\n",
    "    loss = criterion(D_out.squeeze(), labels)\n",
    "    \n",
    "    \n",
    "    return loss\n",
    "\n",
    "def fake_loss(D_out):\n",
    "    \n",
    "    '''Calculates how close discriminator outputs are to being fake.\n",
    "       param, D_out: discriminator logits\n",
    "       return: fake loss'''\n",
    "    \n",
    "    batch_size = D_out.size(0)\n",
    "    \n",
    "    labels = torch.zeros(batch_size) # fake labels = 0\n",
    "    \n",
    "    if train_on_gpu:\n",
    "        labels = labels.cuda()\n",
    "    \n",
    "    # The losses will by binary cross entropy loss with logits, which we can get with \n",
    "    # BCEWithLogitsLoss. This combines a sigmoid activation function and and binary \n",
    "    #cross entropy loss in one function.\n",
    "    criterion = nn.BCEWithLogitsLoss()\n",
    "    # calculate loss\n",
    "    loss = criterion(D_out.squeeze(), labels)\n",
    "    \n",
    "    \n",
    "    return loss"
   ]
  },
  {
   "cell_type": "markdown",
   "metadata": {
    "colab_type": "text",
    "id": "xeR6C92NxgBh"
   },
   "source": [
    "# **Optimizers**\n",
    "\n",
    "**Exercise: Define optimizers for your Discriminator (D) and Generator (G)**\n",
    "\n",
    "Define optimizers for your models with appropriate hyperparameters."
   ]
  },
  {
   "cell_type": "code",
   "execution_count": 42,
   "metadata": {
    "colab": {},
    "colab_type": "code",
    "id": "uh7_1dTbP99e"
   },
   "outputs": [],
   "source": [
    "import torch.optim as optim\n",
    "\n",
    "lr = 0.005\n",
    "beta1 = 0.3\n",
    "beta2 = 0.999 # default value\n",
    "\n",
    "# Create optimizers for the discriminator D and generator G\n",
    "d_optimizer = optim.Adam(D.parameters(), lr, betas=(beta1, beta2))\n",
    "g_optimizer = optim.Adam(G.parameters(), lr, betas=(beta1, beta2))"
   ]
  },
  {
   "cell_type": "markdown",
   "metadata": {
    "colab_type": "text",
    "id": "KFxRHb-6xsLW"
   },
   "source": [
    "# **Training**\n",
    "Training will involve alternating between training the discriminator and the generator. You'll use your functions real_loss and fake_loss to help you calculate the discriminator losses.\n",
    "\n",
    "You should train the discriminator by alternating on real and fake images\n",
    "\n",
    "Then the generator, which tries to trick the discriminator and should have an opposing loss function\n",
    "\n",
    "**Saving Samples**\n",
    "\n",
    "You've been given some code to print out some loss statistics and save some generated \"fake\" samples.\n",
    "\n",
    "**Exercise: Complete the training function**\n",
    "\n",
    "Keep in mind that, if you've moved your models to GPU, you'll also have to move any model inputs to GPU."
   ]
  },
  {
   "cell_type": "code",
   "execution_count": 43,
   "metadata": {
    "colab": {},
    "colab_type": "code",
    "id": "L6O2XmZoQU6C"
   },
   "outputs": [],
   "source": [
    "def train(D, G, n_epochs, print_every=50):\n",
    "    '''Trains adversarial networks for some number of epochs\n",
    "       param, D: the discriminator network\n",
    "       param, G: the generator network\n",
    "       param, n_epochs: number of epochs to train for\n",
    "       param, print_every: when to print and record the models' losses\n",
    "       return: D and G losses'''\n",
    "    \n",
    "    # move models to GPU\n",
    "    if train_on_gpu:\n",
    "        D.cuda()\n",
    "        G.cuda()\n",
    "\n",
    "    # keep track of loss and generated, \"fake\" samples\n",
    "    samples = []\n",
    "    losses = []\n",
    "\n",
    "    # Get some fixed data for sampling. These are images that are held\n",
    "    # constant throughout training, and allow us to inspect the model's performance\n",
    "    sample_size=16\n",
    "    fixed_z = np.random.uniform(-1, 1, size=(sample_size, z_size))\n",
    "    fixed_z = torch.from_numpy(fixed_z).float()\n",
    "    # move z to GPU if available\n",
    "    if train_on_gpu:\n",
    "        fixed_z = fixed_z.cuda()\n",
    "\n",
    "    # epoch training loop\n",
    "    for epoch in range(n_epochs):\n",
    "\n",
    "        # batch training loop\n",
    "        for batch_i, (real_images, _) in enumerate(celeba_train_loader):\n",
    "\n",
    "            batch_size = real_images.size(0)\n",
    "            real_images = scale(real_images)\n",
    "            \n",
    "            \n",
    "\n",
    "            # ===============================================\n",
    "            #         YOUR CODE HERE: TRAIN THE NETWORKS\n",
    "            # ===============================================\n",
    "            \n",
    "            d_optimizer.zero_grad()\n",
    "            \n",
    "            \n",
    "            # ---------TRAIN THE DISCRIMINATOR ----------------\n",
    "            \n",
    "            # Train the discriminator on real and fake images\n",
    "            \n",
    "            # Compute the discriminator losses on real images \n",
    "            if train_on_gpu:\n",
    "                real_images = real_images.cuda()\n",
    "                \n",
    "            D_real = D(real_images)\n",
    "            d_real_loss = real_loss(D_real)\n",
    "            \n",
    "            \n",
    "            # Train with fake images\n",
    "            # Generate fake images\n",
    "            z = np.random.uniform(-1, 1, size=(batch_size, z_size))\n",
    "            z = torch.from_numpy(z).float()\n",
    "            # move x to GPU, if available\n",
    "            if train_on_gpu:\n",
    "                z = z.cuda()\n",
    "            fake_images = G(z)  #generate fake images from generator\n",
    "            \n",
    "            \n",
    "            # Compute the discriminator losses on fake images\n",
    "            D_fake = D(fake_images)\n",
    "            d_fake_loss = fake_loss(D_fake)\n",
    "            \n",
    "            \n",
    "            # add up loss and perform backprop\n",
    "            # For the discriminator, the total loss is the sum of the losses for \n",
    "            # real and fake images, d_loss = d_real_loss + d_fake_loss.\n",
    "            d_loss = d_real_loss + d_fake_loss\n",
    "            d_loss.backward()\n",
    "            d_optimizer.step()\n",
    "            \n",
    "            \n",
    "            \n",
    "             # ---------TRAIN THE GENERATOR ----------------\n",
    "             \n",
    "             # Train the generator with an adversarial loss     \n",
    "             \n",
    "            g_optimizer.zero_grad()\n",
    "            \n",
    "            # Generate fake images\n",
    "            z = np.random.uniform(-1, 1, size=(batch_size, z_size))\n",
    "            z = np.random.uniform(-1, 1, size=(batch_size, z_size))\n",
    "            z = torch.from_numpy(z).float()\n",
    "            if train_on_gpu:\n",
    "                z = z.cuda()\n",
    "            \n",
    "            fake_images = G(z)\n",
    "            \n",
    "            # Compute the discriminator losses on fake images \n",
    "            # using flipped labels!\n",
    "            D_fake = D(fake_images) # pass the fake images to the discriminator as input\n",
    "            \n",
    "            g_loss = real_loss(D_fake) # use real loss to flip labels\n",
    "            \n",
    "            # perform backprop and optimization steps\n",
    "            g_loss.backward()\n",
    "            g_optimizer.step()\n",
    "            \n",
    "            \n",
    "            # ===============================================\n",
    "            #              END OF YOUR CODE\n",
    "            # ===============================================\n",
    "\n",
    "            # Print some loss stats\n",
    "            if batch_i % print_every == 0:\n",
    "                # append discriminator loss and generator loss\n",
    "                losses.append((d_loss.item(), g_loss.item()))\n",
    "                # print discriminator and generator loss\n",
    "                print('Epoch [{:5d}/{:5d}] | d_loss: {:6.4f} | g_loss: {:6.4f}'.format(\n",
    "                        epoch+1, n_epochs, d_loss.item(), g_loss.item()))\n",
    "\n",
    "\n",
    "        ## AFTER EACH EPOCH##    \n",
    "        # this code assumes your generator is named G, feel free to change the name\n",
    "        # generate and save sample, fake images\n",
    "        G.eval() # for generating samples\n",
    "        samples_z = G(fixed_z)\n",
    "        samples.append(samples_z)\n",
    "        G.train() # back to training mode\n",
    "\n",
    "    # Save training generator samples\n",
    "    with open('train_samples.pkl', 'wb') as f:\n",
    "        pkl.dump(samples, f)\n",
    "    \n",
    "    # finally return losses\n",
    "    return losses"
   ]
  },
  {
   "cell_type": "markdown",
   "metadata": {
    "colab_type": "text",
    "id": "2vR0awQix-zf"
   },
   "source": [
    "Set your number of training epochs and train your GAN!"
   ]
  },
  {
   "cell_type": "code",
   "execution_count": 44,
   "metadata": {
    "colab": {
     "base_uri": "https://localhost:8080/",
     "height": 25350
    },
    "colab_type": "code",
    "id": "l-wZwgOEQ56b",
    "outputId": "e2720e7c-c273-42f6-cc2b-adf0a3de88c0",
    "scrolled": false
   },
   "outputs": [
    {
     "name": "stdout",
     "output_type": "stream",
     "text": [
      "Epoch [    1/   20] | d_loss: 1.4492 | g_loss: 3.6269\n",
      "Epoch [    1/   20] | d_loss: 1.4543 | g_loss: 1.5184\n",
      "Epoch [    1/   20] | d_loss: 1.3100 | g_loss: 0.8069\n",
      "Epoch [    1/   20] | d_loss: 1.6819 | g_loss: 1.2428\n",
      "Epoch [    1/   20] | d_loss: 1.3993 | g_loss: 1.7978\n",
      "Epoch [    1/   20] | d_loss: 1.3757 | g_loss: 2.4208\n",
      "Epoch [    1/   20] | d_loss: 1.4799 | g_loss: 1.2920\n",
      "Epoch [    1/   20] | d_loss: 1.3561 | g_loss: 1.4389\n",
      "Epoch [    1/   20] | d_loss: 1.4140 | g_loss: 1.3954\n",
      "Epoch [    1/   20] | d_loss: 1.3840 | g_loss: 2.3930\n",
      "Epoch [    1/   20] | d_loss: 1.6720 | g_loss: 0.6127\n",
      "Epoch [    1/   20] | d_loss: 1.4502 | g_loss: 1.1116\n",
      "Epoch [    1/   20] | d_loss: 1.0533 | g_loss: 1.4337\n",
      "Epoch [    1/   20] | d_loss: 1.0881 | g_loss: 1.1805\n",
      "Epoch [    1/   20] | d_loss: 1.0010 | g_loss: 1.3454\n",
      "Epoch [    1/   20] | d_loss: 1.0937 | g_loss: 1.7410\n",
      "Epoch [    1/   20] | d_loss: 1.4134 | g_loss: 0.8630\n",
      "Epoch [    1/   20] | d_loss: 1.0621 | g_loss: 1.8848\n",
      "Epoch [    1/   20] | d_loss: 1.3500 | g_loss: 1.8914\n",
      "Epoch [    1/   20] | d_loss: 1.2931 | g_loss: 0.9559\n",
      "Epoch [    1/   20] | d_loss: 1.1849 | g_loss: 0.7572\n",
      "Epoch [    1/   20] | d_loss: 1.2283 | g_loss: 2.9991\n",
      "Epoch [    1/   20] | d_loss: 1.1251 | g_loss: 2.7314\n",
      "Epoch [    1/   20] | d_loss: 1.0907 | g_loss: 1.6714\n",
      "Epoch [    1/   20] | d_loss: 1.2561 | g_loss: 2.8470\n",
      "Epoch [    1/   20] | d_loss: 1.4926 | g_loss: 0.6256\n",
      "Epoch [    1/   20] | d_loss: 0.9307 | g_loss: 1.4477\n",
      "Epoch [    1/   20] | d_loss: 1.0177 | g_loss: 1.1435\n",
      "Epoch [    1/   20] | d_loss: 0.6838 | g_loss: 1.4919\n",
      "Epoch [    2/   20] | d_loss: 1.2464 | g_loss: 3.4245\n",
      "Epoch [    2/   20] | d_loss: 1.3172 | g_loss: 1.2289\n",
      "Epoch [    2/   20] | d_loss: 0.9580 | g_loss: 1.6273\n",
      "Epoch [    2/   20] | d_loss: 0.8045 | g_loss: 2.5247\n",
      "Epoch [    2/   20] | d_loss: 1.2405 | g_loss: 2.5489\n",
      "Epoch [    2/   20] | d_loss: 0.9771 | g_loss: 2.5840\n",
      "Epoch [    2/   20] | d_loss: 1.0406 | g_loss: 1.0200\n",
      "Epoch [    2/   20] | d_loss: 1.0390 | g_loss: 2.4246\n",
      "Epoch [    2/   20] | d_loss: 1.0104 | g_loss: 3.1597\n",
      "Epoch [    2/   20] | d_loss: 1.1927 | g_loss: 1.5357\n",
      "Epoch [    2/   20] | d_loss: 0.8201 | g_loss: 1.9169\n",
      "Epoch [    2/   20] | d_loss: 1.0433 | g_loss: 3.3546\n",
      "Epoch [    2/   20] | d_loss: 0.9788 | g_loss: 2.2467\n",
      "Epoch [    2/   20] | d_loss: 1.0949 | g_loss: 3.5174\n",
      "Epoch [    2/   20] | d_loss: 0.7827 | g_loss: 2.1358\n",
      "Epoch [    2/   20] | d_loss: 1.0939 | g_loss: 1.7484\n",
      "Epoch [    2/   20] | d_loss: 0.8564 | g_loss: 2.0735\n",
      "Epoch [    2/   20] | d_loss: 0.9399 | g_loss: 1.8669\n",
      "Epoch [    2/   20] | d_loss: 0.7277 | g_loss: 1.3639\n",
      "Epoch [    2/   20] | d_loss: 1.6008 | g_loss: 3.4226\n",
      "Epoch [    2/   20] | d_loss: 0.7614 | g_loss: 1.8184\n",
      "Epoch [    2/   20] | d_loss: 0.9410 | g_loss: 1.4027\n",
      "Epoch [    2/   20] | d_loss: 0.5786 | g_loss: 2.1597\n",
      "Epoch [    2/   20] | d_loss: 0.8909 | g_loss: 2.6632\n",
      "Epoch [    2/   20] | d_loss: 0.8213 | g_loss: 1.6140\n",
      "Epoch [    2/   20] | d_loss: 0.8620 | g_loss: 3.2923\n",
      "Epoch [    2/   20] | d_loss: 0.9865 | g_loss: 2.7048\n",
      "Epoch [    2/   20] | d_loss: 0.9662 | g_loss: 3.2275\n",
      "Epoch [    2/   20] | d_loss: 0.9554 | g_loss: 3.5410\n",
      "Epoch [    3/   20] | d_loss: 1.4059 | g_loss: 4.6645\n",
      "Epoch [    3/   20] | d_loss: 1.3105 | g_loss: 1.1478\n",
      "Epoch [    3/   20] | d_loss: 1.2225 | g_loss: 4.4914\n",
      "Epoch [    3/   20] | d_loss: 0.9215 | g_loss: 1.6763\n",
      "Epoch [    3/   20] | d_loss: 0.8140 | g_loss: 3.1038\n",
      "Epoch [    3/   20] | d_loss: 1.8436 | g_loss: 5.0649\n",
      "Epoch [    3/   20] | d_loss: 1.3266 | g_loss: 4.7083\n",
      "Epoch [    3/   20] | d_loss: 1.3467 | g_loss: 1.1832\n",
      "Epoch [    3/   20] | d_loss: 1.3887 | g_loss: 5.1430\n",
      "Epoch [    3/   20] | d_loss: 0.8559 | g_loss: 2.3105\n",
      "Epoch [    3/   20] | d_loss: 0.8004 | g_loss: 1.8234\n",
      "Epoch [    3/   20] | d_loss: 0.6546 | g_loss: 1.4623\n",
      "Epoch [    3/   20] | d_loss: 1.2166 | g_loss: 3.4061\n",
      "Epoch [    3/   20] | d_loss: 1.0254 | g_loss: 1.4835\n",
      "Epoch [    3/   20] | d_loss: 0.7494 | g_loss: 1.5155\n",
      "Epoch [    3/   20] | d_loss: 1.0264 | g_loss: 1.8655\n",
      "Epoch [    3/   20] | d_loss: 0.8730 | g_loss: 2.3464\n",
      "Epoch [    3/   20] | d_loss: 0.7687 | g_loss: 2.0258\n",
      "Epoch [    3/   20] | d_loss: 0.9539 | g_loss: 2.7539\n",
      "Epoch [    3/   20] | d_loss: 0.7748 | g_loss: 1.8233\n",
      "Epoch [    3/   20] | d_loss: 0.6553 | g_loss: 3.2006\n",
      "Epoch [    3/   20] | d_loss: 0.4615 | g_loss: 2.1328\n",
      "Epoch [    3/   20] | d_loss: 0.8491 | g_loss: 1.4659\n",
      "Epoch [    3/   20] | d_loss: 0.9457 | g_loss: 1.5326\n",
      "Epoch [    3/   20] | d_loss: 1.1715 | g_loss: 1.6993\n",
      "Epoch [    3/   20] | d_loss: 0.6640 | g_loss: 3.0432\n",
      "Epoch [    3/   20] | d_loss: 0.7615 | g_loss: 3.2143\n",
      "Epoch [    3/   20] | d_loss: 1.1872 | g_loss: 1.7019\n",
      "Epoch [    3/   20] | d_loss: 0.9710 | g_loss: 4.3339\n",
      "Epoch [    4/   20] | d_loss: 0.9459 | g_loss: 5.3921\n",
      "Epoch [    4/   20] | d_loss: 0.8696 | g_loss: 3.5241\n",
      "Epoch [    4/   20] | d_loss: 0.9648 | g_loss: 1.8131\n",
      "Epoch [    4/   20] | d_loss: 0.6197 | g_loss: 1.7476\n",
      "Epoch [    4/   20] | d_loss: 0.5299 | g_loss: 2.4006\n",
      "Epoch [    4/   20] | d_loss: 1.3819 | g_loss: 1.3453\n",
      "Epoch [    4/   20] | d_loss: 0.8268 | g_loss: 3.8835\n",
      "Epoch [    4/   20] | d_loss: 0.5108 | g_loss: 3.1825\n",
      "Epoch [    4/   20] | d_loss: 0.5991 | g_loss: 3.1812\n",
      "Epoch [    4/   20] | d_loss: 0.5785 | g_loss: 1.6180\n",
      "Epoch [    4/   20] | d_loss: 0.7442 | g_loss: 4.7197\n",
      "Epoch [    4/   20] | d_loss: 0.4796 | g_loss: 2.6137\n",
      "Epoch [    4/   20] | d_loss: 0.7456 | g_loss: 2.5444\n",
      "Epoch [    4/   20] | d_loss: 0.6793 | g_loss: 2.7100\n",
      "Epoch [    4/   20] | d_loss: 0.8515 | g_loss: 1.8058\n",
      "Epoch [    4/   20] | d_loss: 0.4360 | g_loss: 2.9548\n",
      "Epoch [    4/   20] | d_loss: 1.1223 | g_loss: 1.6309\n",
      "Epoch [    4/   20] | d_loss: 0.5735 | g_loss: 1.4891\n",
      "Epoch [    4/   20] | d_loss: 0.7814 | g_loss: 2.0640\n",
      "Epoch [    4/   20] | d_loss: 0.7208 | g_loss: 4.8798\n",
      "Epoch [    4/   20] | d_loss: 0.5422 | g_loss: 1.9532\n",
      "Epoch [    4/   20] | d_loss: 1.0842 | g_loss: 0.7210\n",
      "Epoch [    4/   20] | d_loss: 0.3691 | g_loss: 3.0695\n",
      "Epoch [    4/   20] | d_loss: 1.4055 | g_loss: 5.1736\n",
      "Epoch [    4/   20] | d_loss: 0.8919 | g_loss: 1.3634\n",
      "Epoch [    4/   20] | d_loss: 1.3461 | g_loss: 5.6366\n",
      "Epoch [    4/   20] | d_loss: 0.7599 | g_loss: 4.4562\n",
      "Epoch [    4/   20] | d_loss: 0.5214 | g_loss: 4.0426\n",
      "Epoch [    4/   20] | d_loss: 0.9441 | g_loss: 4.3223\n",
      "Epoch [    5/   20] | d_loss: 2.3858 | g_loss: 6.5594\n",
      "Epoch [    5/   20] | d_loss: 0.7110 | g_loss: 2.8946\n",
      "Epoch [    5/   20] | d_loss: 0.7829 | g_loss: 3.3514\n",
      "Epoch [    5/   20] | d_loss: 0.4945 | g_loss: 3.3327\n",
      "Epoch [    5/   20] | d_loss: 0.6247 | g_loss: 2.9945\n",
      "Epoch [    5/   20] | d_loss: 0.6322 | g_loss: 3.9099\n",
      "Epoch [    5/   20] | d_loss: 0.9001 | g_loss: 4.2449\n",
      "Epoch [    5/   20] | d_loss: 0.6375 | g_loss: 3.9068\n",
      "Epoch [    5/   20] | d_loss: 0.9601 | g_loss: 1.2426\n",
      "Epoch [    5/   20] | d_loss: 0.5229 | g_loss: 3.5302\n",
      "Epoch [    5/   20] | d_loss: 1.0319 | g_loss: 1.1374\n",
      "Epoch [    5/   20] | d_loss: 0.3316 | g_loss: 3.5222\n",
      "Epoch [    5/   20] | d_loss: 0.3456 | g_loss: 3.7356\n",
      "Epoch [    5/   20] | d_loss: 0.7662 | g_loss: 2.1198\n",
      "Epoch [    5/   20] | d_loss: 1.1533 | g_loss: 0.9143\n",
      "Epoch [    5/   20] | d_loss: 0.6660 | g_loss: 2.8148\n",
      "Epoch [    5/   20] | d_loss: 0.3182 | g_loss: 3.2101\n",
      "Epoch [    5/   20] | d_loss: 0.8510 | g_loss: 3.8557\n",
      "Epoch [    5/   20] | d_loss: 0.6264 | g_loss: 2.0506\n",
      "Epoch [    5/   20] | d_loss: 1.0967 | g_loss: 6.2885\n",
      "Epoch [    5/   20] | d_loss: 0.4026 | g_loss: 2.1907\n",
      "Epoch [    5/   20] | d_loss: 0.4912 | g_loss: 2.8644\n",
      "Epoch [    5/   20] | d_loss: 0.6444 | g_loss: 3.7363\n",
      "Epoch [    5/   20] | d_loss: 0.4590 | g_loss: 2.5517\n",
      "Epoch [    5/   20] | d_loss: 0.7795 | g_loss: 4.8440\n",
      "Epoch [    5/   20] | d_loss: 0.8410 | g_loss: 4.9138\n",
      "Epoch [    5/   20] | d_loss: 0.5279 | g_loss: 2.2648\n",
      "Epoch [    5/   20] | d_loss: 0.4927 | g_loss: 2.0241\n",
      "Epoch [    5/   20] | d_loss: 0.2794 | g_loss: 2.5676\n",
      "Epoch [    6/   20] | d_loss: 0.5678 | g_loss: 2.0256\n",
      "Epoch [    6/   20] | d_loss: 1.1357 | g_loss: 5.0999\n",
      "Epoch [    6/   20] | d_loss: 0.4877 | g_loss: 2.1673\n",
      "Epoch [    6/   20] | d_loss: 0.4875 | g_loss: 3.2412\n",
      "Epoch [    6/   20] | d_loss: 0.4915 | g_loss: 2.1653\n",
      "Epoch [    6/   20] | d_loss: 0.4052 | g_loss: 3.2457\n",
      "Epoch [    6/   20] | d_loss: 0.6486 | g_loss: 4.4549\n"
     ]
    },
    {
     "name": "stdout",
     "output_type": "stream",
     "text": [
      "Epoch [    6/   20] | d_loss: 0.5871 | g_loss: 5.8439\n",
      "Epoch [    6/   20] | d_loss: 0.7098 | g_loss: 4.9702\n",
      "Epoch [    6/   20] | d_loss: 0.3063 | g_loss: 2.5181\n",
      "Epoch [    6/   20] | d_loss: 0.3519 | g_loss: 2.3713\n",
      "Epoch [    6/   20] | d_loss: 0.4975 | g_loss: 2.8692\n",
      "Epoch [    6/   20] | d_loss: 0.6369 | g_loss: 1.7007\n",
      "Epoch [    6/   20] | d_loss: 0.5627 | g_loss: 1.9047\n",
      "Epoch [    6/   20] | d_loss: 0.3866 | g_loss: 3.3603\n",
      "Epoch [    6/   20] | d_loss: 0.4743 | g_loss: 5.0307\n",
      "Epoch [    6/   20] | d_loss: 0.6047 | g_loss: 4.1006\n",
      "Epoch [    6/   20] | d_loss: 0.6407 | g_loss: 4.6888\n",
      "Epoch [    6/   20] | d_loss: 0.5000 | g_loss: 4.8720\n",
      "Epoch [    6/   20] | d_loss: 0.8014 | g_loss: 4.5733\n",
      "Epoch [    6/   20] | d_loss: 1.8943 | g_loss: 0.9539\n",
      "Epoch [    6/   20] | d_loss: 0.6902 | g_loss: 1.6448\n",
      "Epoch [    6/   20] | d_loss: 0.3722 | g_loss: 2.9774\n",
      "Epoch [    6/   20] | d_loss: 0.4235 | g_loss: 4.2418\n",
      "Epoch [    6/   20] | d_loss: 0.4218 | g_loss: 4.1452\n",
      "Epoch [    6/   20] | d_loss: 0.2373 | g_loss: 2.2780\n",
      "Epoch [    6/   20] | d_loss: 0.7884 | g_loss: 1.4838\n",
      "Epoch [    6/   20] | d_loss: 0.4114 | g_loss: 3.1681\n",
      "Epoch [    6/   20] | d_loss: 1.2253 | g_loss: 0.8227\n",
      "Epoch [    7/   20] | d_loss: 2.5707 | g_loss: 6.6768\n",
      "Epoch [    7/   20] | d_loss: 0.8955 | g_loss: 7.2708\n",
      "Epoch [    7/   20] | d_loss: 0.3478 | g_loss: 2.7907\n",
      "Epoch [    7/   20] | d_loss: 0.3097 | g_loss: 3.6873\n",
      "Epoch [    7/   20] | d_loss: 0.5354 | g_loss: 5.4523\n",
      "Epoch [    7/   20] | d_loss: 0.4970 | g_loss: 3.7042\n",
      "Epoch [    7/   20] | d_loss: 0.9548 | g_loss: 6.0653\n",
      "Epoch [    7/   20] | d_loss: 0.5494 | g_loss: 3.6165\n",
      "Epoch [    7/   20] | d_loss: 0.5746 | g_loss: 2.7696\n",
      "Epoch [    7/   20] | d_loss: 0.9103 | g_loss: 6.3067\n",
      "Epoch [    7/   20] | d_loss: 0.5783 | g_loss: 2.1710\n",
      "Epoch [    7/   20] | d_loss: 0.7360 | g_loss: 0.9742\n",
      "Epoch [    7/   20] | d_loss: 0.2947 | g_loss: 2.7307\n",
      "Epoch [    7/   20] | d_loss: 0.4556 | g_loss: 3.2724\n",
      "Epoch [    7/   20] | d_loss: 0.8342 | g_loss: 6.0085\n",
      "Epoch [    7/   20] | d_loss: 0.5426 | g_loss: 4.0255\n",
      "Epoch [    7/   20] | d_loss: 0.3387 | g_loss: 2.3116\n",
      "Epoch [    7/   20] | d_loss: 0.8123 | g_loss: 1.4321\n",
      "Epoch [    7/   20] | d_loss: 0.6051 | g_loss: 1.7280\n",
      "Epoch [    7/   20] | d_loss: 1.1263 | g_loss: 2.4151\n",
      "Epoch [    7/   20] | d_loss: 0.4377 | g_loss: 1.8069\n",
      "Epoch [    7/   20] | d_loss: 0.3877 | g_loss: 3.2466\n",
      "Epoch [    7/   20] | d_loss: 0.5281 | g_loss: 7.4759\n",
      "Epoch [    7/   20] | d_loss: 0.6257 | g_loss: 2.7574\n",
      "Epoch [    7/   20] | d_loss: 0.6919 | g_loss: 1.2075\n",
      "Epoch [    7/   20] | d_loss: 0.5070 | g_loss: 4.0192\n",
      "Epoch [    7/   20] | d_loss: 0.2759 | g_loss: 3.0185\n",
      "Epoch [    7/   20] | d_loss: 0.1979 | g_loss: 2.4068\n",
      "Epoch [    7/   20] | d_loss: 0.7896 | g_loss: 2.5247\n",
      "Epoch [    8/   20] | d_loss: 0.8416 | g_loss: 2.3617\n",
      "Epoch [    8/   20] | d_loss: 0.3376 | g_loss: 3.3807\n",
      "Epoch [    8/   20] | d_loss: 0.2029 | g_loss: 3.5099\n",
      "Epoch [    8/   20] | d_loss: 0.5647 | g_loss: 3.2898\n",
      "Epoch [    8/   20] | d_loss: 0.2865 | g_loss: 4.4635\n",
      "Epoch [    8/   20] | d_loss: 0.9634 | g_loss: 5.0486\n",
      "Epoch [    8/   20] | d_loss: 0.4850 | g_loss: 4.3951\n",
      "Epoch [    8/   20] | d_loss: 0.5880 | g_loss: 1.5940\n",
      "Epoch [    8/   20] | d_loss: 0.3451 | g_loss: 5.3426\n",
      "Epoch [    8/   20] | d_loss: 0.5184 | g_loss: 6.8289\n",
      "Epoch [    8/   20] | d_loss: 0.3836 | g_loss: 2.9066\n",
      "Epoch [    8/   20] | d_loss: 0.4316 | g_loss: 3.4098\n",
      "Epoch [    8/   20] | d_loss: 0.2365 | g_loss: 4.9101\n",
      "Epoch [    8/   20] | d_loss: 1.0304 | g_loss: 1.6286\n",
      "Epoch [    8/   20] | d_loss: 0.3142 | g_loss: 5.1009\n",
      "Epoch [    8/   20] | d_loss: 0.2144 | g_loss: 3.9578\n",
      "Epoch [    8/   20] | d_loss: 0.6220 | g_loss: 4.8194\n",
      "Epoch [    8/   20] | d_loss: 0.6090 | g_loss: 4.9508\n",
      "Epoch [    8/   20] | d_loss: 0.6910 | g_loss: 0.7425\n",
      "Epoch [    8/   20] | d_loss: 0.4756 | g_loss: 3.0470\n",
      "Epoch [    8/   20] | d_loss: 0.4273 | g_loss: 5.7780\n",
      "Epoch [    8/   20] | d_loss: 0.2810 | g_loss: 1.7631\n",
      "Epoch [    8/   20] | d_loss: 0.4024 | g_loss: 2.9548\n",
      "Epoch [    8/   20] | d_loss: 0.5165 | g_loss: 3.5041\n",
      "Epoch [    8/   20] | d_loss: 0.8745 | g_loss: 4.8360\n",
      "Epoch [    8/   20] | d_loss: 0.4195 | g_loss: 3.1533\n",
      "Epoch [    8/   20] | d_loss: 0.2446 | g_loss: 3.7087\n",
      "Epoch [    8/   20] | d_loss: 0.5936 | g_loss: 4.4444\n",
      "Epoch [    8/   20] | d_loss: 0.3942 | g_loss: 3.0810\n",
      "Epoch [    9/   20] | d_loss: 0.4233 | g_loss: 4.8110\n",
      "Epoch [    9/   20] | d_loss: 2.3106 | g_loss: 10.7449\n",
      "Epoch [    9/   20] | d_loss: 0.5283 | g_loss: 6.1605\n",
      "Epoch [    9/   20] | d_loss: 0.3248 | g_loss: 5.1152\n",
      "Epoch [    9/   20] | d_loss: 0.9622 | g_loss: 5.7481\n",
      "Epoch [    9/   20] | d_loss: 0.3710 | g_loss: 4.7935\n",
      "Epoch [    9/   20] | d_loss: 1.0343 | g_loss: 1.1440\n",
      "Epoch [    9/   20] | d_loss: 1.1308 | g_loss: 1.2573\n",
      "Epoch [    9/   20] | d_loss: 1.3718 | g_loss: 0.7483\n",
      "Epoch [    9/   20] | d_loss: 0.3800 | g_loss: 2.6620\n",
      "Epoch [    9/   20] | d_loss: 0.2979 | g_loss: 4.0356\n",
      "Epoch [    9/   20] | d_loss: 0.3250 | g_loss: 4.3119\n",
      "Epoch [    9/   20] | d_loss: 0.2813 | g_loss: 3.9990\n",
      "Epoch [    9/   20] | d_loss: 2.5377 | g_loss: 2.5255\n",
      "Epoch [    9/   20] | d_loss: 0.9434 | g_loss: 1.7758\n",
      "Epoch [    9/   20] | d_loss: 0.2354 | g_loss: 5.3881\n",
      "Epoch [    9/   20] | d_loss: 0.6289 | g_loss: 2.6268\n",
      "Epoch [    9/   20] | d_loss: 0.8545 | g_loss: 3.4217\n",
      "Epoch [    9/   20] | d_loss: 0.8202 | g_loss: 1.5406\n",
      "Epoch [    9/   20] | d_loss: 1.0421 | g_loss: 2.0143\n",
      "Epoch [    9/   20] | d_loss: 0.1256 | g_loss: 4.8569\n",
      "Epoch [    9/   20] | d_loss: 0.3873 | g_loss: 4.1973\n",
      "Epoch [    9/   20] | d_loss: 0.4574 | g_loss: 2.8018\n",
      "Epoch [    9/   20] | d_loss: 0.3774 | g_loss: 2.2445\n",
      "Epoch [    9/   20] | d_loss: 0.2239 | g_loss: 3.1748\n",
      "Epoch [    9/   20] | d_loss: 0.5791 | g_loss: 4.7486\n",
      "Epoch [    9/   20] | d_loss: 0.2609 | g_loss: 3.9602\n",
      "Epoch [    9/   20] | d_loss: 0.1024 | g_loss: 2.4066\n",
      "Epoch [    9/   20] | d_loss: 6.0896 | g_loss: 11.6075\n",
      "Epoch [   10/   20] | d_loss: 0.8329 | g_loss: 6.8813\n",
      "Epoch [   10/   20] | d_loss: 0.2252 | g_loss: 4.7076\n",
      "Epoch [   10/   20] | d_loss: 0.2593 | g_loss: 4.5356\n",
      "Epoch [   10/   20] | d_loss: 0.3633 | g_loss: 2.1733\n",
      "Epoch [   10/   20] | d_loss: 0.2716 | g_loss: 3.8767\n",
      "Epoch [   10/   20] | d_loss: 0.2076 | g_loss: 4.3464\n",
      "Epoch [   10/   20] | d_loss: 0.4114 | g_loss: 5.2035\n",
      "Epoch [   10/   20] | d_loss: 0.2716 | g_loss: 5.4369\n",
      "Epoch [   10/   20] | d_loss: 0.3345 | g_loss: 2.8524\n",
      "Epoch [   10/   20] | d_loss: 1.4320 | g_loss: 0.9396\n",
      "Epoch [   10/   20] | d_loss: 0.3866 | g_loss: 6.4470\n",
      "Epoch [   10/   20] | d_loss: 0.1913 | g_loss: 3.1392\n",
      "Epoch [   10/   20] | d_loss: 0.3699 | g_loss: 3.1101\n",
      "Epoch [   10/   20] | d_loss: 0.2761 | g_loss: 3.9182\n",
      "Epoch [   10/   20] | d_loss: 0.3958 | g_loss: 2.1467\n",
      "Epoch [   10/   20] | d_loss: 0.4208 | g_loss: 4.7332\n",
      "Epoch [   10/   20] | d_loss: 0.2103 | g_loss: 4.0573\n",
      "Epoch [   10/   20] | d_loss: 1.0940 | g_loss: 3.5086\n",
      "Epoch [   10/   20] | d_loss: 0.3016 | g_loss: 3.6125\n",
      "Epoch [   10/   20] | d_loss: 0.4502 | g_loss: 3.0538\n",
      "Epoch [   10/   20] | d_loss: 0.3550 | g_loss: 2.8635\n",
      "Epoch [   10/   20] | d_loss: 0.5663 | g_loss: 2.8260\n",
      "Epoch [   10/   20] | d_loss: 0.2294 | g_loss: 3.9556\n",
      "Epoch [   10/   20] | d_loss: 0.2128 | g_loss: 3.5969\n",
      "Epoch [   10/   20] | d_loss: 0.1116 | g_loss: 3.1507\n",
      "Epoch [   10/   20] | d_loss: 0.2765 | g_loss: 6.7801\n",
      "Epoch [   10/   20] | d_loss: 0.2299 | g_loss: 2.5133\n",
      "Epoch [   10/   20] | d_loss: 0.5417 | g_loss: 2.3488\n",
      "Epoch [   10/   20] | d_loss: 0.2703 | g_loss: 4.2989\n",
      "Epoch [   11/   20] | d_loss: 3.1241 | g_loss: 10.4039\n",
      "Epoch [   11/   20] | d_loss: 1.2907 | g_loss: 8.1268\n",
      "Epoch [   11/   20] | d_loss: 0.5099 | g_loss: 1.8082\n",
      "Epoch [   11/   20] | d_loss: 0.2564 | g_loss: 3.9603\n",
      "Epoch [   11/   20] | d_loss: 0.2855 | g_loss: 4.9253\n",
      "Epoch [   11/   20] | d_loss: 0.6688 | g_loss: 8.9282\n",
      "Epoch [   11/   20] | d_loss: 0.3873 | g_loss: 4.3132\n",
      "Epoch [   11/   20] | d_loss: 0.0731 | g_loss: 4.4877\n",
      "Epoch [   11/   20] | d_loss: 0.2105 | g_loss: 3.8659\n",
      "Epoch [   11/   20] | d_loss: 0.7981 | g_loss: 7.9975\n",
      "Epoch [   11/   20] | d_loss: 0.4816 | g_loss: 3.9874\n",
      "Epoch [   11/   20] | d_loss: 0.4324 | g_loss: 5.8157\n",
      "Epoch [   11/   20] | d_loss: 0.4404 | g_loss: 5.7769\n",
      "Epoch [   11/   20] | d_loss: 0.2062 | g_loss: 6.7579\n"
     ]
    },
    {
     "name": "stdout",
     "output_type": "stream",
     "text": [
      "Epoch [   11/   20] | d_loss: 1.0781 | g_loss: 1.1335\n",
      "Epoch [   11/   20] | d_loss: 0.1904 | g_loss: 3.5797\n",
      "Epoch [   11/   20] | d_loss: 0.4096 | g_loss: 4.4078\n",
      "Epoch [   11/   20] | d_loss: 0.3348 | g_loss: 6.1687\n",
      "Epoch [   11/   20] | d_loss: 0.2827 | g_loss: 2.2524\n",
      "Epoch [   11/   20] | d_loss: 0.8757 | g_loss: 3.4737\n",
      "Epoch [   11/   20] | d_loss: 0.1583 | g_loss: 4.4030\n",
      "Epoch [   11/   20] | d_loss: 0.9686 | g_loss: 2.4787\n",
      "Epoch [   11/   20] | d_loss: 0.7463 | g_loss: 4.1882\n",
      "Epoch [   11/   20] | d_loss: 0.0786 | g_loss: 3.7710\n",
      "Epoch [   11/   20] | d_loss: 0.1113 | g_loss: 5.7820\n",
      "Epoch [   11/   20] | d_loss: 0.2207 | g_loss: 5.3398\n",
      "Epoch [   11/   20] | d_loss: 0.3979 | g_loss: 4.0199\n",
      "Epoch [   11/   20] | d_loss: 0.5986 | g_loss: 2.4218\n",
      "Epoch [   11/   20] | d_loss: 0.3074 | g_loss: 3.3791\n",
      "Epoch [   12/   20] | d_loss: 0.4645 | g_loss: 5.4642\n",
      "Epoch [   12/   20] | d_loss: 0.3211 | g_loss: 4.5349\n",
      "Epoch [   12/   20] | d_loss: 0.2409 | g_loss: 4.6524\n",
      "Epoch [   12/   20] | d_loss: 0.5455 | g_loss: 7.3701\n",
      "Epoch [   12/   20] | d_loss: 0.5745 | g_loss: 7.3306\n",
      "Epoch [   12/   20] | d_loss: 0.2996 | g_loss: 4.9300\n",
      "Epoch [   12/   20] | d_loss: 0.4999 | g_loss: 5.0007\n",
      "Epoch [   12/   20] | d_loss: 0.2967 | g_loss: 4.3655\n",
      "Epoch [   12/   20] | d_loss: 0.4657 | g_loss: 4.6628\n",
      "Epoch [   12/   20] | d_loss: 0.6123 | g_loss: 7.2604\n",
      "Epoch [   12/   20] | d_loss: 0.1684 | g_loss: 4.5378\n",
      "Epoch [   12/   20] | d_loss: 0.4883 | g_loss: 3.2850\n",
      "Epoch [   12/   20] | d_loss: 0.3279 | g_loss: 3.5493\n",
      "Epoch [   12/   20] | d_loss: 0.3474 | g_loss: 5.2284\n",
      "Epoch [   12/   20] | d_loss: 0.3567 | g_loss: 2.3703\n",
      "Epoch [   12/   20] | d_loss: 0.2412 | g_loss: 4.4330\n",
      "Epoch [   12/   20] | d_loss: 0.4082 | g_loss: 4.1824\n",
      "Epoch [   12/   20] | d_loss: 1.5500 | g_loss: 8.6027\n",
      "Epoch [   12/   20] | d_loss: 0.0857 | g_loss: 6.2656\n",
      "Epoch [   12/   20] | d_loss: 1.1267 | g_loss: 2.5339\n",
      "Epoch [   12/   20] | d_loss: 0.3620 | g_loss: 6.1220\n",
      "Epoch [   12/   20] | d_loss: 0.2957 | g_loss: 2.6775\n",
      "Epoch [   12/   20] | d_loss: 0.2776 | g_loss: 3.6288\n",
      "Epoch [   12/   20] | d_loss: 0.6368 | g_loss: 6.8389\n",
      "Epoch [   12/   20] | d_loss: 0.3663 | g_loss: 5.0286\n",
      "Epoch [   12/   20] | d_loss: 0.3055 | g_loss: 3.6834\n",
      "Epoch [   12/   20] | d_loss: 0.4284 | g_loss: 3.6632\n",
      "Epoch [   12/   20] | d_loss: 0.2399 | g_loss: 4.5024\n",
      "Epoch [   12/   20] | d_loss: 0.6201 | g_loss: 1.6019\n",
      "Epoch [   13/   20] | d_loss: 0.7690 | g_loss: 4.4309\n",
      "Epoch [   13/   20] | d_loss: 0.1673 | g_loss: 4.9746\n",
      "Epoch [   13/   20] | d_loss: 0.4759 | g_loss: 4.6587\n",
      "Epoch [   13/   20] | d_loss: 0.3119 | g_loss: 3.4331\n",
      "Epoch [   13/   20] | d_loss: 0.7647 | g_loss: 2.9043\n",
      "Epoch [   13/   20] | d_loss: 0.7378 | g_loss: 1.9441\n",
      "Epoch [   13/   20] | d_loss: 0.2992 | g_loss: 2.9422\n",
      "Epoch [   13/   20] | d_loss: 1.0743 | g_loss: 0.8566\n",
      "Epoch [   13/   20] | d_loss: 1.4935 | g_loss: 7.3157\n",
      "Epoch [   13/   20] | d_loss: 0.7338 | g_loss: 8.3556\n",
      "Epoch [   13/   20] | d_loss: 1.1755 | g_loss: 9.3519\n",
      "Epoch [   13/   20] | d_loss: 0.1647 | g_loss: 3.4634\n",
      "Epoch [   13/   20] | d_loss: 0.7483 | g_loss: 8.9224\n",
      "Epoch [   13/   20] | d_loss: 0.9725 | g_loss: 6.5199\n",
      "Epoch [   13/   20] | d_loss: 0.2287 | g_loss: 2.4147\n",
      "Epoch [   13/   20] | d_loss: 0.1987 | g_loss: 5.0356\n",
      "Epoch [   13/   20] | d_loss: 0.6614 | g_loss: 7.4889\n",
      "Epoch [   13/   20] | d_loss: 0.2389 | g_loss: 4.1310\n",
      "Epoch [   13/   20] | d_loss: 0.1243 | g_loss: 5.0448\n",
      "Epoch [   13/   20] | d_loss: 0.4900 | g_loss: 2.3527\n",
      "Epoch [   13/   20] | d_loss: 0.3571 | g_loss: 7.2678\n",
      "Epoch [   13/   20] | d_loss: 0.6856 | g_loss: 7.2139\n",
      "Epoch [   13/   20] | d_loss: 0.3315 | g_loss: 4.5848\n",
      "Epoch [   13/   20] | d_loss: 0.4035 | g_loss: 0.9657\n",
      "Epoch [   13/   20] | d_loss: 0.1315 | g_loss: 4.8150\n",
      "Epoch [   13/   20] | d_loss: 0.4731 | g_loss: 4.1807\n",
      "Epoch [   13/   20] | d_loss: 2.4670 | g_loss: 10.7554\n",
      "Epoch [   13/   20] | d_loss: 0.1220 | g_loss: 8.8645\n",
      "Epoch [   13/   20] | d_loss: 0.4967 | g_loss: 7.1610\n",
      "Epoch [   14/   20] | d_loss: 2.5251 | g_loss: 9.8059\n",
      "Epoch [   14/   20] | d_loss: 0.0862 | g_loss: 5.5477\n",
      "Epoch [   14/   20] | d_loss: 0.2016 | g_loss: 4.1700\n",
      "Epoch [   14/   20] | d_loss: 0.1255 | g_loss: 6.0291\n",
      "Epoch [   14/   20] | d_loss: 0.1449 | g_loss: 4.9367\n",
      "Epoch [   14/   20] | d_loss: 0.7821 | g_loss: 5.2013\n",
      "Epoch [   14/   20] | d_loss: 0.1728 | g_loss: 6.2593\n",
      "Epoch [   14/   20] | d_loss: 0.1833 | g_loss: 4.7818\n",
      "Epoch [   14/   20] | d_loss: 0.3819 | g_loss: 3.8252\n",
      "Epoch [   14/   20] | d_loss: 0.2660 | g_loss: 4.3736\n",
      "Epoch [   14/   20] | d_loss: 0.2745 | g_loss: 1.9129\n",
      "Epoch [   14/   20] | d_loss: 0.7723 | g_loss: 3.3689\n",
      "Epoch [   14/   20] | d_loss: 0.1910 | g_loss: 4.2586\n",
      "Epoch [   14/   20] | d_loss: 2.1789 | g_loss: 9.4866\n",
      "Epoch [   14/   20] | d_loss: 0.9187 | g_loss: 5.0965\n",
      "Epoch [   14/   20] | d_loss: 0.3338 | g_loss: 7.0358\n",
      "Epoch [   14/   20] | d_loss: 0.2426 | g_loss: 4.3580\n",
      "Epoch [   14/   20] | d_loss: 0.1053 | g_loss: 5.8706\n",
      "Epoch [   14/   20] | d_loss: 0.5913 | g_loss: 2.5187\n",
      "Epoch [   14/   20] | d_loss: 0.3392 | g_loss: 4.4422\n",
      "Epoch [   14/   20] | d_loss: 0.2078 | g_loss: 4.3597\n",
      "Epoch [   14/   20] | d_loss: 0.3112 | g_loss: 3.2923\n",
      "Epoch [   14/   20] | d_loss: 0.6209 | g_loss: 1.0849\n",
      "Epoch [   14/   20] | d_loss: 0.4229 | g_loss: 4.7235\n",
      "Epoch [   14/   20] | d_loss: 0.2200 | g_loss: 5.8272\n",
      "Epoch [   14/   20] | d_loss: 0.0577 | g_loss: 8.3311\n",
      "Epoch [   14/   20] | d_loss: 0.3740 | g_loss: 4.8120\n",
      "Epoch [   14/   20] | d_loss: 0.3755 | g_loss: 2.7215\n",
      "Epoch [   14/   20] | d_loss: 0.1699 | g_loss: 3.7615\n",
      "Epoch [   15/   20] | d_loss: 1.7888 | g_loss: 11.0203\n",
      "Epoch [   15/   20] | d_loss: 0.0923 | g_loss: 4.8164\n",
      "Epoch [   15/   20] | d_loss: 0.5378 | g_loss: 7.5445\n",
      "Epoch [   15/   20] | d_loss: 0.3000 | g_loss: 4.0925\n",
      "Epoch [   15/   20] | d_loss: 0.3647 | g_loss: 4.5595\n",
      "Epoch [   15/   20] | d_loss: 0.1166 | g_loss: 4.8974\n",
      "Epoch [   15/   20] | d_loss: 0.6254 | g_loss: 1.2726\n",
      "Epoch [   15/   20] | d_loss: 0.3458 | g_loss: 5.0882\n",
      "Epoch [   15/   20] | d_loss: 0.2163 | g_loss: 6.0797\n",
      "Epoch [   15/   20] | d_loss: 0.2030 | g_loss: 3.1594\n",
      "Epoch [   15/   20] | d_loss: 0.2127 | g_loss: 5.8657\n",
      "Epoch [   15/   20] | d_loss: 0.1672 | g_loss: 4.6041\n",
      "Epoch [   15/   20] | d_loss: 0.3540 | g_loss: 5.6513\n",
      "Epoch [   15/   20] | d_loss: 0.2935 | g_loss: 4.0131\n",
      "Epoch [   15/   20] | d_loss: 0.4224 | g_loss: 5.5501\n",
      "Epoch [   15/   20] | d_loss: 0.0473 | g_loss: 5.5926\n",
      "Epoch [   15/   20] | d_loss: 0.1734 | g_loss: 5.0918\n",
      "Epoch [   15/   20] | d_loss: 0.3704 | g_loss: 4.9613\n",
      "Epoch [   15/   20] | d_loss: 0.8954 | g_loss: 1.9070\n",
      "Epoch [   15/   20] | d_loss: 0.5128 | g_loss: 3.8144\n",
      "Epoch [   15/   20] | d_loss: 0.1412 | g_loss: 4.5605\n",
      "Epoch [   15/   20] | d_loss: 0.2440 | g_loss: 6.7105\n",
      "Epoch [   15/   20] | d_loss: 0.3558 | g_loss: 5.6096\n",
      "Epoch [   15/   20] | d_loss: 0.2100 | g_loss: 5.1062\n",
      "Epoch [   15/   20] | d_loss: 0.5254 | g_loss: 5.3986\n",
      "Epoch [   15/   20] | d_loss: 0.9796 | g_loss: 1.8362\n",
      "Epoch [   15/   20] | d_loss: 0.0739 | g_loss: 5.8412\n",
      "Epoch [   15/   20] | d_loss: 0.2432 | g_loss: 3.9209\n",
      "Epoch [   15/   20] | d_loss: 0.6136 | g_loss: 4.6838\n",
      "Epoch [   16/   20] | d_loss: 1.7588 | g_loss: 11.5627\n",
      "Epoch [   16/   20] | d_loss: 0.8241 | g_loss: 9.3528\n",
      "Epoch [   16/   20] | d_loss: 0.4616 | g_loss: 3.2643\n",
      "Epoch [   16/   20] | d_loss: 0.1072 | g_loss: 4.5934\n",
      "Epoch [   16/   20] | d_loss: 0.4372 | g_loss: 4.5095\n",
      "Epoch [   16/   20] | d_loss: 0.2197 | g_loss: 6.7621\n",
      "Epoch [   16/   20] | d_loss: 0.4012 | g_loss: 2.8403\n",
      "Epoch [   16/   20] | d_loss: 0.1672 | g_loss: 5.7443\n",
      "Epoch [   16/   20] | d_loss: 0.2554 | g_loss: 4.7668\n",
      "Epoch [   16/   20] | d_loss: 0.2691 | g_loss: 6.8725\n",
      "Epoch [   16/   20] | d_loss: 0.3697 | g_loss: 4.5940\n",
      "Epoch [   16/   20] | d_loss: 0.4670 | g_loss: 4.3779\n",
      "Epoch [   16/   20] | d_loss: 0.3380 | g_loss: 2.7124\n",
      "Epoch [   16/   20] | d_loss: 0.4348 | g_loss: 7.3978\n",
      "Epoch [   16/   20] | d_loss: 0.5468 | g_loss: 7.4362\n",
      "Epoch [   16/   20] | d_loss: 3.3322 | g_loss: 0.5934\n",
      "Epoch [   16/   20] | d_loss: 0.6994 | g_loss: 8.2781\n",
      "Epoch [   16/   20] | d_loss: 0.2002 | g_loss: 7.0143\n",
      "Epoch [   16/   20] | d_loss: 0.4747 | g_loss: 2.9354\n",
      "Epoch [   16/   20] | d_loss: 3.5641 | g_loss: 10.7813\n",
      "Epoch [   16/   20] | d_loss: 0.3340 | g_loss: 6.2786\n"
     ]
    },
    {
     "name": "stdout",
     "output_type": "stream",
     "text": [
      "Epoch [   16/   20] | d_loss: 0.2012 | g_loss: 5.1566\n",
      "Epoch [   16/   20] | d_loss: 0.3679 | g_loss: 3.8680\n",
      "Epoch [   16/   20] | d_loss: 0.4341 | g_loss: 6.9516\n",
      "Epoch [   16/   20] | d_loss: 0.2840 | g_loss: 2.2673\n",
      "Epoch [   16/   20] | d_loss: 0.6874 | g_loss: 7.2629\n",
      "Epoch [   16/   20] | d_loss: 0.2292 | g_loss: 5.6599\n",
      "Epoch [   16/   20] | d_loss: 0.2857 | g_loss: 5.9289\n",
      "Epoch [   16/   20] | d_loss: 0.5141 | g_loss: 5.9375\n",
      "Epoch [   17/   20] | d_loss: 0.5943 | g_loss: 4.2510\n",
      "Epoch [   17/   20] | d_loss: 0.1222 | g_loss: 5.0396\n",
      "Epoch [   17/   20] | d_loss: 0.9057 | g_loss: 5.7478\n",
      "Epoch [   17/   20] | d_loss: 0.1404 | g_loss: 5.7432\n",
      "Epoch [   17/   20] | d_loss: 0.0642 | g_loss: 5.1017\n",
      "Epoch [   17/   20] | d_loss: 0.1957 | g_loss: 4.3114\n",
      "Epoch [   17/   20] | d_loss: 0.4120 | g_loss: 5.8918\n",
      "Epoch [   17/   20] | d_loss: 0.3285 | g_loss: 5.0023\n",
      "Epoch [   17/   20] | d_loss: 0.1328 | g_loss: 6.9442\n",
      "Epoch [   17/   20] | d_loss: 0.1999 | g_loss: 4.9782\n",
      "Epoch [   17/   20] | d_loss: 0.2855 | g_loss: 5.9518\n",
      "Epoch [   17/   20] | d_loss: 0.2435 | g_loss: 4.2893\n",
      "Epoch [   17/   20] | d_loss: 0.7232 | g_loss: 2.5728\n",
      "Epoch [   17/   20] | d_loss: 0.5159 | g_loss: 1.6509\n",
      "Epoch [   17/   20] | d_loss: 0.1651 | g_loss: 3.9606\n",
      "Epoch [   17/   20] | d_loss: 0.2786 | g_loss: 8.4899\n",
      "Epoch [   17/   20] | d_loss: 0.2311 | g_loss: 4.9739\n",
      "Epoch [   17/   20] | d_loss: 0.3519 | g_loss: 7.6612\n",
      "Epoch [   17/   20] | d_loss: 0.3145 | g_loss: 2.5066\n",
      "Epoch [   17/   20] | d_loss: 1.0899 | g_loss: 9.3265\n",
      "Epoch [   17/   20] | d_loss: 0.1920 | g_loss: 5.1528\n",
      "Epoch [   17/   20] | d_loss: 0.4018 | g_loss: 5.0039\n",
      "Epoch [   17/   20] | d_loss: 0.4176 | g_loss: 2.8236\n",
      "Epoch [   17/   20] | d_loss: 0.3524 | g_loss: 6.6778\n",
      "Epoch [   17/   20] | d_loss: 0.5282 | g_loss: 5.7385\n",
      "Epoch [   17/   20] | d_loss: 0.7607 | g_loss: 4.6648\n",
      "Epoch [   17/   20] | d_loss: 0.2591 | g_loss: 5.2153\n",
      "Epoch [   17/   20] | d_loss: 0.0900 | g_loss: 2.6202\n",
      "Epoch [   17/   20] | d_loss: 0.3728 | g_loss: 3.1603\n",
      "Epoch [   18/   20] | d_loss: 3.6542 | g_loss: 14.5301\n",
      "Epoch [   18/   20] | d_loss: 0.2687 | g_loss: 5.2892\n",
      "Epoch [   18/   20] | d_loss: 0.2275 | g_loss: 4.4490\n",
      "Epoch [   18/   20] | d_loss: 0.2188 | g_loss: 6.2524\n",
      "Epoch [   18/   20] | d_loss: 0.0994 | g_loss: 5.2463\n",
      "Epoch [   18/   20] | d_loss: 0.6596 | g_loss: 4.2570\n",
      "Epoch [   18/   20] | d_loss: 0.1558 | g_loss: 3.7921\n",
      "Epoch [   18/   20] | d_loss: 0.1902 | g_loss: 4.0485\n",
      "Epoch [   18/   20] | d_loss: 0.2113 | g_loss: 6.1741\n",
      "Epoch [   18/   20] | d_loss: 0.1923 | g_loss: 4.5521\n",
      "Epoch [   18/   20] | d_loss: 0.1491 | g_loss: 5.6936\n",
      "Epoch [   18/   20] | d_loss: 0.6346 | g_loss: 4.2916\n",
      "Epoch [   18/   20] | d_loss: 0.2213 | g_loss: 5.1807\n",
      "Epoch [   18/   20] | d_loss: 0.3925 | g_loss: 4.5908\n",
      "Epoch [   18/   20] | d_loss: 0.3754 | g_loss: 6.9042\n",
      "Epoch [   18/   20] | d_loss: 0.4026 | g_loss: 8.1794\n",
      "Epoch [   18/   20] | d_loss: 0.6233 | g_loss: 1.4328\n",
      "Epoch [   18/   20] | d_loss: 2.5644 | g_loss: 13.4971\n",
      "Epoch [   18/   20] | d_loss: 0.2695 | g_loss: 3.9808\n",
      "Epoch [   18/   20] | d_loss: 0.1113 | g_loss: 5.9380\n",
      "Epoch [   18/   20] | d_loss: 0.1920 | g_loss: 6.2255\n",
      "Epoch [   18/   20] | d_loss: 0.0988 | g_loss: 5.3558\n",
      "Epoch [   18/   20] | d_loss: 0.3494 | g_loss: 3.6408\n",
      "Epoch [   18/   20] | d_loss: 0.5016 | g_loss: 6.8146\n",
      "Epoch [   18/   20] | d_loss: 0.1591 | g_loss: 2.1539\n",
      "Epoch [   18/   20] | d_loss: 0.3028 | g_loss: 3.7422\n",
      "Epoch [   18/   20] | d_loss: 0.3953 | g_loss: 5.0175\n",
      "Epoch [   18/   20] | d_loss: 0.6065 | g_loss: 7.8070\n",
      "Epoch [   18/   20] | d_loss: 0.8511 | g_loss: 7.3679\n",
      "Epoch [   19/   20] | d_loss: 0.5827 | g_loss: 7.5223\n",
      "Epoch [   19/   20] | d_loss: 0.1465 | g_loss: 3.0023\n",
      "Epoch [   19/   20] | d_loss: 0.6340 | g_loss: 7.1516\n",
      "Epoch [   19/   20] | d_loss: 0.1983 | g_loss: 5.1918\n",
      "Epoch [   19/   20] | d_loss: 0.2408 | g_loss: 3.9373\n",
      "Epoch [   19/   20] | d_loss: 0.0572 | g_loss: 5.0314\n",
      "Epoch [   19/   20] | d_loss: 0.1255 | g_loss: 5.9484\n",
      "Epoch [   19/   20] | d_loss: 0.3011 | g_loss: 5.4333\n",
      "Epoch [   19/   20] | d_loss: 0.1189 | g_loss: 5.6190\n",
      "Epoch [   19/   20] | d_loss: 0.1992 | g_loss: 6.3788\n",
      "Epoch [   19/   20] | d_loss: 0.2456 | g_loss: 4.6908\n",
      "Epoch [   19/   20] | d_loss: 0.0782 | g_loss: 4.5426\n",
      "Epoch [   19/   20] | d_loss: 0.1349 | g_loss: 6.2870\n",
      "Epoch [   19/   20] | d_loss: 0.1689 | g_loss: 5.3104\n",
      "Epoch [   19/   20] | d_loss: 0.4490 | g_loss: 5.6909\n",
      "Epoch [   19/   20] | d_loss: 0.8477 | g_loss: 1.4840\n",
      "Epoch [   19/   20] | d_loss: 0.8232 | g_loss: 8.5191\n",
      "Epoch [   19/   20] | d_loss: 0.0523 | g_loss: 5.4927\n",
      "Epoch [   19/   20] | d_loss: 0.1268 | g_loss: 4.2718\n",
      "Epoch [   19/   20] | d_loss: 0.2802 | g_loss: 4.2554\n",
      "Epoch [   19/   20] | d_loss: 0.0868 | g_loss: 7.2041\n",
      "Epoch [   19/   20] | d_loss: 0.1827 | g_loss: 6.8594\n",
      "Epoch [   19/   20] | d_loss: 0.3061 | g_loss: 8.4610\n",
      "Epoch [   19/   20] | d_loss: 0.3237 | g_loss: 7.1517\n",
      "Epoch [   19/   20] | d_loss: 0.1544 | g_loss: 3.7806\n",
      "Epoch [   19/   20] | d_loss: 0.2958 | g_loss: 6.4270\n",
      "Epoch [   19/   20] | d_loss: 0.3147 | g_loss: 6.2575\n",
      "Epoch [   19/   20] | d_loss: 0.2584 | g_loss: 5.3581\n",
      "Epoch [   19/   20] | d_loss: 0.1388 | g_loss: 5.1749\n",
      "Epoch [   20/   20] | d_loss: 5.1153 | g_loss: 13.1213\n",
      "Epoch [   20/   20] | d_loss: 0.6681 | g_loss: 7.9848\n",
      "Epoch [   20/   20] | d_loss: 0.9083 | g_loss: 5.2960\n",
      "Epoch [   20/   20] | d_loss: 0.1272 | g_loss: 4.7670\n",
      "Epoch [   20/   20] | d_loss: 0.0381 | g_loss: 3.3786\n",
      "Epoch [   20/   20] | d_loss: 0.3756 | g_loss: 2.7252\n",
      "Epoch [   20/   20] | d_loss: 0.8049 | g_loss: 2.2619\n",
      "Epoch [   20/   20] | d_loss: 0.4061 | g_loss: 2.9936\n",
      "Epoch [   20/   20] | d_loss: 0.1394 | g_loss: 5.0751\n",
      "Epoch [   20/   20] | d_loss: 0.0544 | g_loss: 7.1325\n",
      "Epoch [   20/   20] | d_loss: 0.1451 | g_loss: 5.0491\n",
      "Epoch [   20/   20] | d_loss: 0.1681 | g_loss: 5.8091\n",
      "Epoch [   20/   20] | d_loss: 0.3049 | g_loss: 6.7014\n",
      "Epoch [   20/   20] | d_loss: 0.5467 | g_loss: 7.7471\n",
      "Epoch [   20/   20] | d_loss: 0.7720 | g_loss: 5.1810\n",
      "Epoch [   20/   20] | d_loss: 0.4952 | g_loss: 5.1740\n",
      "Epoch [   20/   20] | d_loss: 0.0601 | g_loss: 6.2304\n",
      "Epoch [   20/   20] | d_loss: 0.0685 | g_loss: 5.9615\n",
      "Epoch [   20/   20] | d_loss: 0.6668 | g_loss: 8.8542\n",
      "Epoch [   20/   20] | d_loss: 0.4649 | g_loss: 7.3567\n",
      "Epoch [   20/   20] | d_loss: 0.1221 | g_loss: 5.7407\n",
      "Epoch [   20/   20] | d_loss: 0.3848 | g_loss: 1.9170\n",
      "Epoch [   20/   20] | d_loss: 0.0862 | g_loss: 4.4746\n",
      "Epoch [   20/   20] | d_loss: 0.1864 | g_loss: 4.5255\n",
      "Epoch [   20/   20] | d_loss: 0.1453 | g_loss: 5.3489\n",
      "Epoch [   20/   20] | d_loss: 0.1144 | g_loss: 3.6648\n",
      "Epoch [   20/   20] | d_loss: 0.2602 | g_loss: 4.3976\n",
      "Epoch [   20/   20] | d_loss: 0.7260 | g_loss: 9.3690\n",
      "Epoch [   20/   20] | d_loss: 0.0540 | g_loss: 4.7233\n"
     ]
    }
   ],
   "source": [
    "# set number of epochs \n",
    "n_epochs = 20\n",
    "\n",
    "# call training function\n",
    "losses = train(D, G, n_epochs=n_epochs)"
   ]
  },
  {
   "cell_type": "markdown",
   "metadata": {
    "colab_type": "text",
    "id": "fFIo8gnQyFt7"
   },
   "source": [
    "# **Training loss**\n",
    "Plot the training losses for the generator and discriminator, recorded after each epoch."
   ]
  },
  {
   "cell_type": "code",
   "execution_count": 45,
   "metadata": {
    "colab": {
     "base_uri": "https://localhost:8080/",
     "height": 297
    },
    "colab_type": "code",
    "id": "i5I5BOXpRYUW",
    "outputId": "6e12d5b3-4306-46cc-9924-3bd3985c1417"
   },
   "outputs": [
    {
     "data": {
      "text/plain": [
       "<matplotlib.legend.Legend at 0x7f577a6e3940>"
      ]
     },
     "execution_count": 45,
     "metadata": {},
     "output_type": "execute_result"
    },
    {
     "data": {
      "image/png": "[encoded data removed]",
      "text/plain": [
       "<matplotlib.figure.Figure at 0x7f577aa69c88>"
      ]
     },
     "metadata": {
      "needs_background": "light"
     },
     "output_type": "display_data"
    }
   ],
   "source": [
    "fig, ax = plt.subplots()\n",
    "losses = np.array(losses)\n",
    "plt.plot(losses.T[0], label='Discriminator', alpha=0.5)\n",
    "plt.plot(losses.T[1], label='Generator', alpha=0.5)\n",
    "plt.title(\"Training Losses\")\n",
    "plt.legend()"
   ]
  },
  {
   "cell_type": "markdown",
   "metadata": {
    "colab_type": "text",
    "id": "9CWQeTnXybam"
   },
   "source": [
    "# **Generator samples from training**\n",
    "View samples of images from the generator, and answer a question about the strengths and weaknesses of your trained models."
   ]
  },
  {
   "cell_type": "code",
   "execution_count": 46,
   "metadata": {
    "colab": {},
    "colab_type": "code",
    "id": "oZSpiCvJaq5o"
   },
   "outputs": [],
   "source": [
    "# helper function for viewing a list of passed in sample images\n",
    "def view_samples(epoch, samples):\n",
    "    fig, axes = plt.subplots(figsize=(16,4), nrows=2, ncols=8, sharey=True, sharex=True)\n",
    "    for ax, img in zip(axes.flatten(), samples[epoch]):\n",
    "        img = img.detach().cpu().numpy()\n",
    "        img = np.transpose(img, (1, 2, 0))\n",
    "        img = ((img + 1)*255 / (2)).astype(np.uint8)\n",
    "        ax.xaxis.set_visible(False)\n",
    "        ax.yaxis.set_visible(False)\n",
    "        im = ax.imshow(img.reshape((32,32,3)))"
   ]
  },
  {
   "cell_type": "code",
   "execution_count": 25,
   "metadata": {
    "colab": {},
    "colab_type": "code",
    "id": "aNQ_QBbNa4UB"
   },
   "outputs": [],
   "source": [
    "# Load samples from generator, taken while training\n",
    "with open('train_samples.pkl', 'rb') as f:\n",
    "    samples = pkl.load(f)"
   ]
  },
  {
   "cell_type": "code",
   "execution_count": 28,
   "metadata": {
    "colab": {
     "base_uri": "https://localhost:8080/",
     "height": 243
    },
    "colab_type": "code",
    "id": "Z_ZuviFha6wu",
    "outputId": "bfb68161-c360-4057-8716-d8fada5efb34"
   },
   "outputs": [
    {
     "data": {
      "image/png": "[encoded data removed]",
      "text/plain": [
       "<matplotlib.figure.Figure at 0x7f577455c630>"
      ]
     },
     "metadata": {
      "needs_background": "light"
     },
     "output_type": "display_data"
    }
   ],
   "source": [
    "# _ = view_samples(-1, samples)\n",
    "'''\n",
    "d_conv_dim : 64\n",
    "g_conv_dim : 64\n",
    "z_size :200\n",
    "70 epoch\n",
    "''' "
   ]
  },
  {
   "cell_type": "code",
   "execution_count": 47,
   "metadata": {},
   "outputs": [
    {
     "data": {
      "text/plain": [
       "'\\nd_conv_dim : 32\\ng_conv_dim : 32\\nz_size :150\\n20 epoch\\n'"
      ]
     },
     "execution_count": 47,
     "metadata": {},
     "output_type": "execute_result"
    },
    {
     "data": {
      "image/png": "[encoded data removed]",
      "text/plain": [
       "<matplotlib.figure.Figure at 0x7f577acd9a58>"
      ]
     },
     "metadata": {
      "needs_background": "light"
     },
     "output_type": "display_data"
    }
   ],
   "source": [
    "_ = view_samples(-1, samples)\n",
    "'''\n",
    "d_conv_dim : 32\n",
    "g_conv_dim : 32\n",
    "z_size :150\n",
    "20 epoch\n",
    "''' "
   ]
  },
  {
   "cell_type": "markdown",
   "metadata": {
    "colab_type": "text",
    "id": "Etm8CEjMeJ_8"
   },
   "source": [
    "# **Question: **What do you notice about your generated samples and how might you improve this model?\n",
    "\n",
    "When you answer this question, consider the following factors:\n",
    "\n",
    "*   The dataset is biased; it is made of \"celebrity\" faces that are mostly white\n",
    "*   Model size; larger models have the opportunity to learn more features in a data feature space\n",
    "*   Optimization strategy; optimizers and number of epochs affect your final result\n",
    "\n",
    "\n",
    "# Answer:\n",
    "\n",
    "* I will try to reduce the background as much as possible so that the GAN does not confuse it as part of the image.\n",
    "* Increasing the size of the image will definitely help produce a better faces, mainly because we can use more complexe networks.\n",
    "* I would have more experiments with different hyperparameters to obtain the best result. Currently i tried two different hyperparameters as it is shown above.\n",
    "* The dataset need to be more diversed as the result of this GAN will always be a white face. \n",
    "\n",
    "\n",
    "\n",
    "\n"
   ]
  },
  {
   "cell_type": "markdown",
   "metadata": {
    "colab_type": "text",
    "id": "cUYjOnP2sXcV"
   },
   "source": [
    "**Submitting This Project**\n",
    "\n",
    "When submitting this project, make sure to run all the cells before saving the notebook. Save the notebook file as \"dlnd_face_generation.ipynb\" and save it as a HTML file under \"File\" -> \"Download as\".  Include the \"problem_unittests.py\" files in your submission."
   ]
  },
  {
   "cell_type": "code",
   "execution_count": 0,
   "metadata": {
    "colab": {},
    "colab_type": "code",
    "id": "BkYex5Mwsia7"
   },
   "outputs": [],
   "source": []
  }
 ],
 "metadata": {
  "accelerator": "GPU",
  "colab": {
   "name": "dlnd_face_generation.ipynb",
   "provenance": [],
   "version": "0.3.2"
  },
  "kernelspec": {
   "display_name": "Python 3",
   "language": "python",
   "name": "python3"
  },
  "language_info": {
   "codemirror_mode": {
    "name": "ipython",
    "version": 3
   },
   "file_extension": ".py",
   "mimetype": "text/x-python",
   "name": "python",
   "nbconvert_exporter": "python",
   "pygments_lexer": "ipython3",
   "version": "3.6.3"
  }
 },
 "nbformat": 4,
 "nbformat_minor": 1
}
